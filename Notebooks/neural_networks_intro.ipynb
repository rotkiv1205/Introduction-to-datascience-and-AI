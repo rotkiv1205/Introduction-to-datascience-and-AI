{
 "cells": [
  {
   "cell_type": "markdown",
   "metadata": {},
   "source": [
    "# Neural networks"
   ]
  },
  {
   "cell_type": "code",
   "execution_count": 1,
   "metadata": {},
   "outputs": [
    {
     "name": "stderr",
     "output_type": "stream",
     "text": [
      "Using TensorFlow backend.\n"
     ]
    }
   ],
   "source": [
    "import pandas as pd\n",
    "from sklearn import preprocessing\n",
    "from keras.models import Sequential\n",
    "from keras.layers import Dense\n",
    "from keras import optimizers\n",
    "import matplotlib.pyplot as plt\n",
    "from sklearn.model_selection import train_test_split"
   ]
  },
  {
   "cell_type": "markdown",
   "metadata": {},
   "source": [
    "## The house prices dataset"
   ]
  },
  {
   "cell_type": "markdown",
   "metadata": {},
   "source": [
    "Based on [this](https://medium.com/intuitive-deep-learning/intuitive-deep-learning-part-1a-introduction-to-neural-networks-d7b16ebf6b99) and [this](https://medium.com/intuitive-deep-learning/intuitive-deep-learning-part-1b-introduction-to-neural-networks-8565d97ddd2d). \n",
    "\n",
    "Let us build a neural network that predicts whether the house price is below or above the median value. "
   ]
  },
  {
   "cell_type": "code",
   "execution_count": 2,
   "metadata": {},
   "outputs": [],
   "source": [
    "df = pd.read_csv('../../datasets/housepricedata.csv')"
   ]
  },
  {
   "cell_type": "code",
   "execution_count": 3,
   "metadata": {},
   "outputs": [
    {
     "data": {
      "text/html": [
       "<div>\n",
       "<style scoped>\n",
       "    .dataframe tbody tr th:only-of-type {\n",
       "        vertical-align: middle;\n",
       "    }\n",
       "\n",
       "    .dataframe tbody tr th {\n",
       "        vertical-align: top;\n",
       "    }\n",
       "\n",
       "    .dataframe thead th {\n",
       "        text-align: right;\n",
       "    }\n",
       "</style>\n",
       "<table border=\"1\" class=\"dataframe\">\n",
       "  <thead>\n",
       "    <tr style=\"text-align: right;\">\n",
       "      <th></th>\n",
       "      <th>LotArea</th>\n",
       "      <th>OverallQual</th>\n",
       "      <th>OverallCond</th>\n",
       "      <th>TotalBsmtSF</th>\n",
       "      <th>FullBath</th>\n",
       "      <th>HalfBath</th>\n",
       "      <th>BedroomAbvGr</th>\n",
       "      <th>TotRmsAbvGrd</th>\n",
       "      <th>Fireplaces</th>\n",
       "      <th>GarageArea</th>\n",
       "      <th>AboveMedianPrice</th>\n",
       "    </tr>\n",
       "  </thead>\n",
       "  <tbody>\n",
       "    <tr>\n",
       "      <th>0</th>\n",
       "      <td>8450</td>\n",
       "      <td>7</td>\n",
       "      <td>5</td>\n",
       "      <td>856</td>\n",
       "      <td>2</td>\n",
       "      <td>1</td>\n",
       "      <td>3</td>\n",
       "      <td>8</td>\n",
       "      <td>0</td>\n",
       "      <td>548</td>\n",
       "      <td>1</td>\n",
       "    </tr>\n",
       "    <tr>\n",
       "      <th>1</th>\n",
       "      <td>9600</td>\n",
       "      <td>6</td>\n",
       "      <td>8</td>\n",
       "      <td>1262</td>\n",
       "      <td>2</td>\n",
       "      <td>0</td>\n",
       "      <td>3</td>\n",
       "      <td>6</td>\n",
       "      <td>1</td>\n",
       "      <td>460</td>\n",
       "      <td>1</td>\n",
       "    </tr>\n",
       "    <tr>\n",
       "      <th>2</th>\n",
       "      <td>11250</td>\n",
       "      <td>7</td>\n",
       "      <td>5</td>\n",
       "      <td>920</td>\n",
       "      <td>2</td>\n",
       "      <td>1</td>\n",
       "      <td>3</td>\n",
       "      <td>6</td>\n",
       "      <td>1</td>\n",
       "      <td>608</td>\n",
       "      <td>1</td>\n",
       "    </tr>\n",
       "    <tr>\n",
       "      <th>3</th>\n",
       "      <td>9550</td>\n",
       "      <td>7</td>\n",
       "      <td>5</td>\n",
       "      <td>756</td>\n",
       "      <td>1</td>\n",
       "      <td>0</td>\n",
       "      <td>3</td>\n",
       "      <td>7</td>\n",
       "      <td>1</td>\n",
       "      <td>642</td>\n",
       "      <td>0</td>\n",
       "    </tr>\n",
       "    <tr>\n",
       "      <th>4</th>\n",
       "      <td>14260</td>\n",
       "      <td>8</td>\n",
       "      <td>5</td>\n",
       "      <td>1145</td>\n",
       "      <td>2</td>\n",
       "      <td>1</td>\n",
       "      <td>4</td>\n",
       "      <td>9</td>\n",
       "      <td>1</td>\n",
       "      <td>836</td>\n",
       "      <td>1</td>\n",
       "    </tr>\n",
       "    <tr>\n",
       "      <th>...</th>\n",
       "      <td>...</td>\n",
       "      <td>...</td>\n",
       "      <td>...</td>\n",
       "      <td>...</td>\n",
       "      <td>...</td>\n",
       "      <td>...</td>\n",
       "      <td>...</td>\n",
       "      <td>...</td>\n",
       "      <td>...</td>\n",
       "      <td>...</td>\n",
       "      <td>...</td>\n",
       "    </tr>\n",
       "    <tr>\n",
       "      <th>1455</th>\n",
       "      <td>7917</td>\n",
       "      <td>6</td>\n",
       "      <td>5</td>\n",
       "      <td>953</td>\n",
       "      <td>2</td>\n",
       "      <td>1</td>\n",
       "      <td>3</td>\n",
       "      <td>7</td>\n",
       "      <td>1</td>\n",
       "      <td>460</td>\n",
       "      <td>1</td>\n",
       "    </tr>\n",
       "    <tr>\n",
       "      <th>1456</th>\n",
       "      <td>13175</td>\n",
       "      <td>6</td>\n",
       "      <td>6</td>\n",
       "      <td>1542</td>\n",
       "      <td>2</td>\n",
       "      <td>0</td>\n",
       "      <td>3</td>\n",
       "      <td>7</td>\n",
       "      <td>2</td>\n",
       "      <td>500</td>\n",
       "      <td>1</td>\n",
       "    </tr>\n",
       "    <tr>\n",
       "      <th>1457</th>\n",
       "      <td>9042</td>\n",
       "      <td>7</td>\n",
       "      <td>9</td>\n",
       "      <td>1152</td>\n",
       "      <td>2</td>\n",
       "      <td>0</td>\n",
       "      <td>4</td>\n",
       "      <td>9</td>\n",
       "      <td>2</td>\n",
       "      <td>252</td>\n",
       "      <td>1</td>\n",
       "    </tr>\n",
       "    <tr>\n",
       "      <th>1458</th>\n",
       "      <td>9717</td>\n",
       "      <td>5</td>\n",
       "      <td>6</td>\n",
       "      <td>1078</td>\n",
       "      <td>1</td>\n",
       "      <td>0</td>\n",
       "      <td>2</td>\n",
       "      <td>5</td>\n",
       "      <td>0</td>\n",
       "      <td>240</td>\n",
       "      <td>0</td>\n",
       "    </tr>\n",
       "    <tr>\n",
       "      <th>1459</th>\n",
       "      <td>9937</td>\n",
       "      <td>5</td>\n",
       "      <td>6</td>\n",
       "      <td>1256</td>\n",
       "      <td>1</td>\n",
       "      <td>1</td>\n",
       "      <td>3</td>\n",
       "      <td>6</td>\n",
       "      <td>0</td>\n",
       "      <td>276</td>\n",
       "      <td>0</td>\n",
       "    </tr>\n",
       "  </tbody>\n",
       "</table>\n",
       "<p>1460 rows × 11 columns</p>\n",
       "</div>"
      ],
      "text/plain": [
       "      LotArea  OverallQual  OverallCond  TotalBsmtSF  FullBath  HalfBath  \\\n",
       "0        8450            7            5          856         2         1   \n",
       "1        9600            6            8         1262         2         0   \n",
       "2       11250            7            5          920         2         1   \n",
       "3        9550            7            5          756         1         0   \n",
       "4       14260            8            5         1145         2         1   \n",
       "...       ...          ...          ...          ...       ...       ...   \n",
       "1455     7917            6            5          953         2         1   \n",
       "1456    13175            6            6         1542         2         0   \n",
       "1457     9042            7            9         1152         2         0   \n",
       "1458     9717            5            6         1078         1         0   \n",
       "1459     9937            5            6         1256         1         1   \n",
       "\n",
       "      BedroomAbvGr  TotRmsAbvGrd  Fireplaces  GarageArea  AboveMedianPrice  \n",
       "0                3             8           0         548                 1  \n",
       "1                3             6           1         460                 1  \n",
       "2                3             6           1         608                 1  \n",
       "3                3             7           1         642                 0  \n",
       "4                4             9           1         836                 1  \n",
       "...            ...           ...         ...         ...               ...  \n",
       "1455             3             7           1         460                 1  \n",
       "1456             3             7           2         500                 1  \n",
       "1457             4             9           2         252                 1  \n",
       "1458             2             5           0         240                 0  \n",
       "1459             3             6           0         276                 0  \n",
       "\n",
       "[1460 rows x 11 columns]"
      ]
     },
     "execution_count": 3,
     "metadata": {},
     "output_type": "execute_result"
    }
   ],
   "source": [
    "df"
   ]
  },
  {
   "cell_type": "markdown",
   "metadata": {},
   "source": [
    "Now that we have looked at it, let's convert this dataframe into an array."
   ]
  },
  {
   "cell_type": "code",
   "execution_count": 4,
   "metadata": {},
   "outputs": [],
   "source": [
    "dataset = df.values"
   ]
  },
  {
   "cell_type": "code",
   "execution_count": 5,
   "metadata": {},
   "outputs": [
    {
     "data": {
      "text/plain": [
       "array([[ 8450,     7,     5, ...,     0,   548,     1],\n",
       "       [ 9600,     6,     8, ...,     1,   460,     1],\n",
       "       [11250,     7,     5, ...,     1,   608,     1],\n",
       "       ...,\n",
       "       [ 9042,     7,     9, ...,     2,   252,     1],\n",
       "       [ 9717,     5,     6, ...,     0,   240,     0],\n",
       "       [ 9937,     5,     6, ...,     0,   276,     0]], dtype=int64)"
      ]
     },
     "execution_count": 5,
     "metadata": {},
     "output_type": "execute_result"
    }
   ],
   "source": [
    "dataset"
   ]
  },
  {
   "cell_type": "markdown",
   "metadata": {},
   "source": [
    "Now, we split the dataset into our input features and the label we wish to predict."
   ]
  },
  {
   "cell_type": "code",
   "execution_count": 6,
   "metadata": {},
   "outputs": [],
   "source": [
    "X = dataset[:,0:10] #take all rows and all columns from 0 up to and not including 10\n",
    "Y = dataset[:,10] #take all rows and column number 10"
   ]
  },
  {
   "cell_type": "markdown",
   "metadata": {},
   "source": [
    "## Preparing the data"
   ]
  },
  {
   "cell_type": "markdown",
   "metadata": {},
   "source": [
    "Normalizing our data is very important, as we want the input features to be on the same order of magnitude to make our training easier. We'll use a min-max scaler from scikit-learn which scales our data to be between 0 and 1."
   ]
  },
  {
   "cell_type": "code",
   "execution_count": 7,
   "metadata": {},
   "outputs": [],
   "source": [
    "min_max_scaler = preprocessing.MinMaxScaler()\n",
    "X_scale = min_max_scaler.fit_transform(X)"
   ]
  },
  {
   "cell_type": "code",
   "execution_count": 8,
   "metadata": {},
   "outputs": [
    {
     "data": {
      "text/plain": [
       "array([[0.0334198 , 0.66666667, 0.5       , ..., 0.5       , 0.        ,\n",
       "        0.3864598 ],\n",
       "       [0.03879502, 0.55555556, 0.875     , ..., 0.33333333, 0.33333333,\n",
       "        0.32440056],\n",
       "       [0.04650728, 0.66666667, 0.5       , ..., 0.33333333, 0.33333333,\n",
       "        0.42877292],\n",
       "       ...,\n",
       "       [0.03618687, 0.66666667, 1.        , ..., 0.58333333, 0.66666667,\n",
       "        0.17771509],\n",
       "       [0.03934189, 0.44444444, 0.625     , ..., 0.25      , 0.        ,\n",
       "        0.16925247],\n",
       "       [0.04037019, 0.44444444, 0.625     , ..., 0.33333333, 0.        ,\n",
       "        0.19464034]])"
      ]
     },
     "execution_count": 8,
     "metadata": {},
     "output_type": "execute_result"
    }
   ],
   "source": [
    "X_scale"
   ]
  },
  {
   "cell_type": "code",
   "execution_count": 9,
   "metadata": {},
   "outputs": [],
   "source": [
    "# Split into training and test\n",
    "X_train, X_test, Y_train, Y_test = train_test_split(X_scale, Y, test_size=0.3)"
   ]
  },
  {
   "cell_type": "markdown",
   "metadata": {},
   "source": [
    "## Configuring the network architecture "
   ]
  },
  {
   "cell_type": "markdown",
   "metadata": {},
   "source": [
    "We will be using the Sequential model, which means that we merely need to describe our layers in sequence. Our neural network has three layers:\n",
    "\n",
    "- Hidden layer 1: 30 neurons, ReLU activation\n",
    "- Hidden layer 2: 30 neurons, ReLU activation\n",
    "- Output Layer: 1 neuron, Sigmoid activation"
   ]
  },
  {
   "cell_type": "code",
   "execution_count": 10,
   "metadata": {},
   "outputs": [],
   "source": [
    "model = Sequential([\n",
    "    Dense(30, activation='relu', input_shape=(10,)),\n",
    "    Dense(30, activation='relu'),\n",
    "    Dense(1, activation='sigmoid'),\n",
    "])"
   ]
  },
  {
   "cell_type": "markdown",
   "metadata": {},
   "source": [
    "## Configuring the training process"
   ]
  },
  {
   "cell_type": "markdown",
   "metadata": {},
   "source": [
    "Before we start our training, we have to configure the model by\n",
    "- Telling it what algorithm we want to use for the optimization (we'll use stochastic gradient descent)\n",
    "- Telling it what loss function to use (for binary classification, we will use binary cross entropy)\n",
    "- Telling it what other metrics we want to track apart from the loss function (we want to track accuracy as well):"
   ]
  },
  {
   "cell_type": "code",
   "execution_count": 11,
   "metadata": {},
   "outputs": [],
   "source": [
    "sgd = optimizers.SGD(lr=0.02) #, decay=1e-6, momentum=0.9, nesterov=True)"
   ]
  },
  {
   "cell_type": "code",
   "execution_count": 12,
   "metadata": {},
   "outputs": [],
   "source": [
    "model.compile(optimizer=sgd,\n",
    "              loss='binary_crossentropy',\n",
    "              metrics=['accuracy'])"
   ]
  },
  {
   "cell_type": "markdown",
   "metadata": {},
   "source": [
    "## Training the model"
   ]
  },
  {
   "cell_type": "markdown",
   "metadata": {},
   "source": [
    "We specify:\n",
    "- what data we are training on, which is X_train and Y_train\n",
    "- the size of our mini-batch \n",
    "- how long we want to train it for (epochs)\n",
    "- what our validation data is so that the model will tell us how we are doing on the validation data at each point.\n",
    "\n",
    "This function will output a history, which wenables us to observe the progress of the learning process."
   ]
  },
  {
   "cell_type": "code",
   "execution_count": 13,
   "metadata": {},
   "outputs": [],
   "source": [
    "history = model.fit(X_train, Y_train, \n",
    "          batch_size=32, epochs=100, verbose=0,\n",
    "          validation_data=(X_test, Y_test))"
   ]
  },
  {
   "cell_type": "markdown",
   "metadata": {},
   "source": [
    "# Testing the model"
   ]
  },
  {
   "cell_type": "code",
   "execution_count": 14,
   "metadata": {},
   "outputs": [
    {
     "name": "stdout",
     "output_type": "stream",
     "text": [
      "438/438 [==============================] - 0s 34us/step\n",
      "Accuracy on house prices: 0.8858447670936584\n"
     ]
    }
   ],
   "source": [
    "print(\"Accuracy on house prices:\",model.evaluate(X_test, Y_test)[1])"
   ]
  },
  {
   "cell_type": "markdown",
   "metadata": {},
   "source": [
    "We can visualize the learning process like this:"
   ]
  },
  {
   "cell_type": "code",
   "execution_count": 15,
   "metadata": {},
   "outputs": [
    {
     "data": {
      "image/png": "[encoded data removed]",
      "text/plain": [
       "<Figure size 432x288 with 1 Axes>"
      ]
     },
     "metadata": {
      "needs_background": "light"
     },
     "output_type": "display_data"
    }
   ],
   "source": [
    "plt.plot(history.history['accuracy'])\n",
    "plt.plot(history.history['val_accuracy'])\n",
    "plt.title('House price predictions')\n",
    "plt.ylabel('Accuracy')\n",
    "plt.xlabel('Epoch')\n",
    "plt.legend(['Training set', 'Test set'], loc='lower right')\n",
    "plt.show()"
   ]
  },
  {
   "cell_type": "markdown",
   "metadata": {},
   "source": [
    "## The pima dataset"
   ]
  },
  {
   "cell_type": "markdown",
   "metadata": {},
   "source": [
    "Based on [this](https://machinelearningmastery.com/tutorial-first-neural-network-python-keras/)"
   ]
  },
  {
   "cell_type": "code",
   "execution_count": 16,
   "metadata": {},
   "outputs": [
    {
     "data": {
      "text/html": [
       "<div>\n",
       "<style scoped>\n",
       "    .dataframe tbody tr th:only-of-type {\n",
       "        vertical-align: middle;\n",
       "    }\n",
       "\n",
       "    .dataframe tbody tr th {\n",
       "        vertical-align: top;\n",
       "    }\n",
       "\n",
       "    .dataframe thead th {\n",
       "        text-align: right;\n",
       "    }\n",
       "</style>\n",
       "<table border=\"1\" class=\"dataframe\">\n",
       "  <thead>\n",
       "    <tr style=\"text-align: right;\">\n",
       "      <th></th>\n",
       "      <th>Pregnancies</th>\n",
       "      <th>Glucose</th>\n",
       "      <th>BloodPressure</th>\n",
       "      <th>SkinThickness</th>\n",
       "      <th>Insulin</th>\n",
       "      <th>BMI</th>\n",
       "      <th>DiabetesPedigreeFunction</th>\n",
       "      <th>Age</th>\n",
       "      <th>Outcome</th>\n",
       "    </tr>\n",
       "  </thead>\n",
       "  <tbody>\n",
       "    <tr>\n",
       "      <th>0</th>\n",
       "      <td>6</td>\n",
       "      <td>148</td>\n",
       "      <td>72</td>\n",
       "      <td>35</td>\n",
       "      <td>0</td>\n",
       "      <td>33.6</td>\n",
       "      <td>0.627</td>\n",
       "      <td>50</td>\n",
       "      <td>1</td>\n",
       "    </tr>\n",
       "    <tr>\n",
       "      <th>1</th>\n",
       "      <td>1</td>\n",
       "      <td>85</td>\n",
       "      <td>66</td>\n",
       "      <td>29</td>\n",
       "      <td>0</td>\n",
       "      <td>26.6</td>\n",
       "      <td>0.351</td>\n",
       "      <td>31</td>\n",
       "      <td>0</td>\n",
       "    </tr>\n",
       "    <tr>\n",
       "      <th>2</th>\n",
       "      <td>8</td>\n",
       "      <td>183</td>\n",
       "      <td>64</td>\n",
       "      <td>0</td>\n",
       "      <td>0</td>\n",
       "      <td>23.3</td>\n",
       "      <td>0.672</td>\n",
       "      <td>32</td>\n",
       "      <td>1</td>\n",
       "    </tr>\n",
       "    <tr>\n",
       "      <th>3</th>\n",
       "      <td>1</td>\n",
       "      <td>89</td>\n",
       "      <td>66</td>\n",
       "      <td>23</td>\n",
       "      <td>94</td>\n",
       "      <td>28.1</td>\n",
       "      <td>0.167</td>\n",
       "      <td>21</td>\n",
       "      <td>0</td>\n",
       "    </tr>\n",
       "    <tr>\n",
       "      <th>4</th>\n",
       "      <td>0</td>\n",
       "      <td>137</td>\n",
       "      <td>40</td>\n",
       "      <td>35</td>\n",
       "      <td>168</td>\n",
       "      <td>43.1</td>\n",
       "      <td>2.288</td>\n",
       "      <td>33</td>\n",
       "      <td>1</td>\n",
       "    </tr>\n",
       "    <tr>\n",
       "      <th>...</th>\n",
       "      <td>...</td>\n",
       "      <td>...</td>\n",
       "      <td>...</td>\n",
       "      <td>...</td>\n",
       "      <td>...</td>\n",
       "      <td>...</td>\n",
       "      <td>...</td>\n",
       "      <td>...</td>\n",
       "      <td>...</td>\n",
       "    </tr>\n",
       "    <tr>\n",
       "      <th>763</th>\n",
       "      <td>10</td>\n",
       "      <td>101</td>\n",
       "      <td>76</td>\n",
       "      <td>48</td>\n",
       "      <td>180</td>\n",
       "      <td>32.9</td>\n",
       "      <td>0.171</td>\n",
       "      <td>63</td>\n",
       "      <td>0</td>\n",
       "    </tr>\n",
       "    <tr>\n",
       "      <th>764</th>\n",
       "      <td>2</td>\n",
       "      <td>122</td>\n",
       "      <td>70</td>\n",
       "      <td>27</td>\n",
       "      <td>0</td>\n",
       "      <td>36.8</td>\n",
       "      <td>0.340</td>\n",
       "      <td>27</td>\n",
       "      <td>0</td>\n",
       "    </tr>\n",
       "    <tr>\n",
       "      <th>765</th>\n",
       "      <td>5</td>\n",
       "      <td>121</td>\n",
       "      <td>72</td>\n",
       "      <td>23</td>\n",
       "      <td>112</td>\n",
       "      <td>26.2</td>\n",
       "      <td>0.245</td>\n",
       "      <td>30</td>\n",
       "      <td>0</td>\n",
       "    </tr>\n",
       "    <tr>\n",
       "      <th>766</th>\n",
       "      <td>1</td>\n",
       "      <td>126</td>\n",
       "      <td>60</td>\n",
       "      <td>0</td>\n",
       "      <td>0</td>\n",
       "      <td>30.1</td>\n",
       "      <td>0.349</td>\n",
       "      <td>47</td>\n",
       "      <td>1</td>\n",
       "    </tr>\n",
       "    <tr>\n",
       "      <th>767</th>\n",
       "      <td>1</td>\n",
       "      <td>93</td>\n",
       "      <td>70</td>\n",
       "      <td>31</td>\n",
       "      <td>0</td>\n",
       "      <td>30.4</td>\n",
       "      <td>0.315</td>\n",
       "      <td>23</td>\n",
       "      <td>0</td>\n",
       "    </tr>\n",
       "  </tbody>\n",
       "</table>\n",
       "<p>768 rows × 9 columns</p>\n",
       "</div>"
      ],
      "text/plain": [
       "     Pregnancies  Glucose  BloodPressure  SkinThickness  Insulin   BMI  \\\n",
       "0              6      148             72             35        0  33.6   \n",
       "1              1       85             66             29        0  26.6   \n",
       "2              8      183             64              0        0  23.3   \n",
       "3              1       89             66             23       94  28.1   \n",
       "4              0      137             40             35      168  43.1   \n",
       "..           ...      ...            ...            ...      ...   ...   \n",
       "763           10      101             76             48      180  32.9   \n",
       "764            2      122             70             27        0  36.8   \n",
       "765            5      121             72             23      112  26.2   \n",
       "766            1      126             60              0        0  30.1   \n",
       "767            1       93             70             31        0  30.4   \n",
       "\n",
       "     DiabetesPedigreeFunction  Age  Outcome  \n",
       "0                       0.627   50        1  \n",
       "1                       0.351   31        0  \n",
       "2                       0.672   32        1  \n",
       "3                       0.167   21        0  \n",
       "4                       2.288   33        1  \n",
       "..                        ...  ...      ...  \n",
       "763                     0.171   63        0  \n",
       "764                     0.340   27        0  \n",
       "765                     0.245   30        0  \n",
       "766                     0.349   47        1  \n",
       "767                     0.315   23        0  \n",
       "\n",
       "[768 rows x 9 columns]"
      ]
     },
     "execution_count": 16,
     "metadata": {},
     "output_type": "execute_result"
    }
   ],
   "source": [
    "pima = pd.read_csv('../../datasets/diabetes.csv') # Missing data!! See 0s under Insulin and SkinThickness\n",
    "pima"
   ]
  },
  {
   "cell_type": "code",
   "execution_count": 17,
   "metadata": {},
   "outputs": [
    {
     "data": {
      "text/plain": [
       "Index(['Pregnancies', 'Glucose', 'BloodPressure', 'SkinThickness', 'Insulin',\n",
       "       'BMI', 'DiabetesPedigreeFunction', 'Age', 'Outcome'],\n",
       "      dtype='object')"
      ]
     },
     "execution_count": 17,
     "metadata": {},
     "output_type": "execute_result"
    }
   ],
   "source": [
    "pima.columns"
   ]
  },
  {
   "cell_type": "code",
   "execution_count": 18,
   "metadata": {},
   "outputs": [],
   "source": [
    "X = pima[['Pregnancies', 'Glucose', 'BloodPressure', 'SkinThickness', 'Insulin',\n",
    "       'BMI', 'DiabetesPedigreeFunction', 'Age']] # Features\n",
    "y = pima['Outcome'] # Targets"
   ]
  },
  {
   "cell_type": "code",
   "execution_count": 19,
   "metadata": {},
   "outputs": [],
   "source": [
    "min_max_scaler = preprocessing.MinMaxScaler()\n",
    "X_scale = min_max_scaler.fit_transform(X)"
   ]
  },
  {
   "cell_type": "code",
   "execution_count": 20,
   "metadata": {},
   "outputs": [],
   "source": [
    "# Split dataset into training set and test set\n",
    "X_train, X_test, y_train, y_test = train_test_split(X_scale, y, test_size=0.3)"
   ]
  },
  {
   "cell_type": "markdown",
   "metadata": {},
   "source": [
    "## Defining the model"
   ]
  },
  {
   "cell_type": "code",
   "execution_count": 21,
   "metadata": {},
   "outputs": [],
   "source": [
    "model = Sequential([\n",
    "    Dense(100, activation='relu', input_dim=8),\n",
    "    Dense(80, activation='relu'), \n",
    "    Dense(1, activation='sigmoid')\n",
    "])"
   ]
  },
  {
   "cell_type": "code",
   "execution_count": 22,
   "metadata": {},
   "outputs": [],
   "source": [
    "sgd = optimizers.SGD(lr=0.02, decay=2e-4) #, momentum=0.9, nesterov=True)"
   ]
  },
  {
   "cell_type": "code",
   "execution_count": 23,
   "metadata": {},
   "outputs": [],
   "source": [
    "model.compile(optimizer=sgd,\n",
    "              loss='binary_crossentropy',\n",
    "              metrics=['accuracy'])"
   ]
  },
  {
   "cell_type": "code",
   "execution_count": 24,
   "metadata": {},
   "outputs": [
    {
     "name": "stdout",
     "output_type": "stream",
     "text": [
      "Train on 537 samples, validate on 231 samples\n",
      "Epoch 1/150\n",
      "537/537 [==============================] - 0s 320us/step - loss: 0.6620 - accuracy: 0.6648 - val_loss: 0.6605 - val_accuracy: 0.6364\n",
      "Epoch 2/150\n",
      "537/537 [==============================] - 0s 151us/step - loss: 0.6441 - accuracy: 0.6574 - val_loss: 0.6561 - val_accuracy: 0.6364\n",
      "Epoch 3/150\n",
      "537/537 [==============================] - 0s 156us/step - loss: 0.6387 - accuracy: 0.6574 - val_loss: 0.6515 - val_accuracy: 0.6364\n",
      "Epoch 4/150\n",
      "537/537 [==============================] - 0s 158us/step - loss: 0.6336 - accuracy: 0.6574 - val_loss: 0.6475 - val_accuracy: 0.6364\n",
      "Epoch 5/150\n",
      "537/537 [==============================] - 0s 162us/step - loss: 0.6274 - accuracy: 0.6574 - val_loss: 0.6439 - val_accuracy: 0.6364\n",
      "Epoch 6/150\n",
      "537/537 [==============================] - 0s 156us/step - loss: 0.6236 - accuracy: 0.6574 - val_loss: 0.6372 - val_accuracy: 0.6364\n",
      "Epoch 7/150\n",
      "537/537 [==============================] - 0s 198us/step - loss: 0.6162 - accuracy: 0.6574 - val_loss: 0.6312 - val_accuracy: 0.6364\n",
      "Epoch 8/150\n",
      "537/537 [==============================] - 0s 156us/step - loss: 0.6105 - accuracy: 0.6574 - val_loss: 0.6266 - val_accuracy: 0.6320\n",
      "Epoch 9/150\n",
      "537/537 [==============================] - 0s 190us/step - loss: 0.6041 - accuracy: 0.6611 - val_loss: 0.6204 - val_accuracy: 0.6407\n",
      "Epoch 10/150\n",
      "537/537 [==============================] - 0s 191us/step - loss: 0.5975 - accuracy: 0.6667 - val_loss: 0.6157 - val_accuracy: 0.6364\n",
      "Epoch 11/150\n",
      "537/537 [==============================] - 0s 164us/step - loss: 0.5911 - accuracy: 0.6760 - val_loss: 0.6092 - val_accuracy: 0.6537\n",
      "Epoch 12/150\n",
      "537/537 [==============================] - 0s 207us/step - loss: 0.5852 - accuracy: 0.6946 - val_loss: 0.6040 - val_accuracy: 0.6537\n",
      "Epoch 13/150\n",
      "537/537 [==============================] - 0s 169us/step - loss: 0.5786 - accuracy: 0.7002 - val_loss: 0.6005 - val_accuracy: 0.6537\n",
      "Epoch 14/150\n",
      "537/537 [==============================] - 0s 156us/step - loss: 0.5723 - accuracy: 0.7095 - val_loss: 0.5929 - val_accuracy: 0.6580\n",
      "Epoch 15/150\n",
      "537/537 [==============================] - 0s 164us/step - loss: 0.5657 - accuracy: 0.7169 - val_loss: 0.5876 - val_accuracy: 0.6753\n",
      "Epoch 16/150\n",
      "537/537 [==============================] - 0s 179us/step - loss: 0.5600 - accuracy: 0.7207 - val_loss: 0.5826 - val_accuracy: 0.6883\n",
      "Epoch 17/150\n",
      "537/537 [==============================] - 0s 184us/step - loss: 0.5529 - accuracy: 0.7337 - val_loss: 0.5792 - val_accuracy: 0.6753\n",
      "Epoch 18/150\n",
      "537/537 [==============================] - 0s 179us/step - loss: 0.5477 - accuracy: 0.7281 - val_loss: 0.5733 - val_accuracy: 0.6840\n",
      "Epoch 19/150\n",
      "537/537 [==============================] - 0s 175us/step - loss: 0.5429 - accuracy: 0.7374 - val_loss: 0.5693 - val_accuracy: 0.6970\n",
      "Epoch 20/150\n",
      "537/537 [==============================] - 0s 177us/step - loss: 0.5369 - accuracy: 0.7430 - val_loss: 0.5651 - val_accuracy: 0.6970\n",
      "Epoch 21/150\n",
      "537/537 [==============================] - 0s 158us/step - loss: 0.5319 - accuracy: 0.7318 - val_loss: 0.5616 - val_accuracy: 0.6926\n",
      "Epoch 22/150\n",
      "537/537 [==============================] - 0s 158us/step - loss: 0.5266 - accuracy: 0.7356 - val_loss: 0.5579 - val_accuracy: 0.6926\n",
      "Epoch 23/150\n",
      "537/537 [==============================] - 0s 185us/step - loss: 0.5229 - accuracy: 0.7486 - val_loss: 0.5552 - val_accuracy: 0.7056\n",
      "Epoch 24/150\n",
      "537/537 [==============================] - 0s 197us/step - loss: 0.5164 - accuracy: 0.7449 - val_loss: 0.5512 - val_accuracy: 0.7056\n",
      "Epoch 25/150\n",
      "537/537 [==============================] - 0s 168us/step - loss: 0.5114 - accuracy: 0.7467 - val_loss: 0.5531 - val_accuracy: 0.7013\n",
      "Epoch 26/150\n",
      "537/537 [==============================] - 0s 185us/step - loss: 0.5122 - accuracy: 0.7467 - val_loss: 0.5454 - val_accuracy: 0.7013\n",
      "Epoch 27/150\n",
      "537/537 [==============================] - 0s 173us/step - loss: 0.5042 - accuracy: 0.7598 - val_loss: 0.5417 - val_accuracy: 0.7186\n",
      "Epoch 28/150\n",
      "537/537 [==============================] - 0s 203us/step - loss: 0.5015 - accuracy: 0.7449 - val_loss: 0.5397 - val_accuracy: 0.7056\n",
      "Epoch 29/150\n",
      "537/537 [==============================] - 0s 168us/step - loss: 0.4995 - accuracy: 0.7579 - val_loss: 0.5379 - val_accuracy: 0.7273\n",
      "Epoch 30/150\n",
      "537/537 [==============================] - 0s 160us/step - loss: 0.4967 - accuracy: 0.7579 - val_loss: 0.5350 - val_accuracy: 0.7143\n",
      "Epoch 31/150\n",
      "537/537 [==============================] - 0s 175us/step - loss: 0.4950 - accuracy: 0.7561 - val_loss: 0.5328 - val_accuracy: 0.7229\n",
      "Epoch 32/150\n",
      "537/537 [==============================] - 0s 177us/step - loss: 0.4913 - accuracy: 0.7542 - val_loss: 0.5349 - val_accuracy: 0.7316\n",
      "Epoch 33/150\n",
      "537/537 [==============================] - 0s 162us/step - loss: 0.4887 - accuracy: 0.7616 - val_loss: 0.5330 - val_accuracy: 0.7186\n",
      "Epoch 34/150\n",
      "537/537 [==============================] - 0s 189us/step - loss: 0.4886 - accuracy: 0.7709 - val_loss: 0.5288 - val_accuracy: 0.7359\n",
      "Epoch 35/150\n",
      "537/537 [==============================] - 0s 184us/step - loss: 0.4815 - accuracy: 0.7579 - val_loss: 0.5282 - val_accuracy: 0.7229\n",
      "Epoch 36/150\n",
      "537/537 [==============================] - 0s 187us/step - loss: 0.4843 - accuracy: 0.7672 - val_loss: 0.5245 - val_accuracy: 0.7446\n",
      "Epoch 37/150\n",
      "537/537 [==============================] - 0s 156us/step - loss: 0.4794 - accuracy: 0.7616 - val_loss: 0.5340 - val_accuracy: 0.7403\n",
      "Epoch 38/150\n",
      "537/537 [==============================] - 0s 160us/step - loss: 0.4784 - accuracy: 0.7654 - val_loss: 0.5213 - val_accuracy: 0.7446\n",
      "Epoch 39/150\n",
      "537/537 [==============================] - 0s 171us/step - loss: 0.4777 - accuracy: 0.7616 - val_loss: 0.5205 - val_accuracy: 0.7489\n",
      "Epoch 40/150\n",
      "537/537 [==============================] - 0s 188us/step - loss: 0.4730 - accuracy: 0.7672 - val_loss: 0.5227 - val_accuracy: 0.7532\n",
      "Epoch 41/150\n",
      "537/537 [==============================] - 0s 177us/step - loss: 0.4741 - accuracy: 0.7728 - val_loss: 0.5182 - val_accuracy: 0.7489\n",
      "Epoch 42/150\n",
      "537/537 [==============================] - 0s 162us/step - loss: 0.4710 - accuracy: 0.7691 - val_loss: 0.5205 - val_accuracy: 0.7359\n",
      "Epoch 43/150\n",
      "537/537 [==============================] - 0s 197us/step - loss: 0.4695 - accuracy: 0.7840 - val_loss: 0.5270 - val_accuracy: 0.7359\n",
      "Epoch 44/150\n",
      "537/537 [==============================] - 0s 175us/step - loss: 0.4717 - accuracy: 0.7803 - val_loss: 0.5138 - val_accuracy: 0.7662\n",
      "Epoch 45/150\n",
      "537/537 [==============================] - 0s 156us/step - loss: 0.4713 - accuracy: 0.7803 - val_loss: 0.5126 - val_accuracy: 0.7619\n",
      "Epoch 46/150\n",
      "537/537 [==============================] - 0s 153us/step - loss: 0.4686 - accuracy: 0.7821 - val_loss: 0.5127 - val_accuracy: 0.7619\n",
      "Epoch 47/150\n",
      "537/537 [==============================] - 0s 181us/step - loss: 0.4684 - accuracy: 0.7747 - val_loss: 0.5162 - val_accuracy: 0.7576\n",
      "Epoch 48/150\n",
      "537/537 [==============================] - 0s 149us/step - loss: 0.4662 - accuracy: 0.7691 - val_loss: 0.5243 - val_accuracy: 0.7316\n",
      "Epoch 49/150\n",
      "537/537 [==============================] - 0s 156us/step - loss: 0.4670 - accuracy: 0.7691 - val_loss: 0.5107 - val_accuracy: 0.7619\n",
      "Epoch 50/150\n",
      "537/537 [==============================] - 0s 173us/step - loss: 0.4602 - accuracy: 0.7821 - val_loss: 0.5166 - val_accuracy: 0.7532\n",
      "Epoch 51/150\n",
      "537/537 [==============================] - 0s 151us/step - loss: 0.4655 - accuracy: 0.7821 - val_loss: 0.5084 - val_accuracy: 0.7792\n",
      "Epoch 52/150\n",
      "537/537 [==============================] - 0s 151us/step - loss: 0.4605 - accuracy: 0.7784 - val_loss: 0.5110 - val_accuracy: 0.7576\n",
      "Epoch 53/150\n",
      "537/537 [==============================] - 0s 151us/step - loss: 0.4623 - accuracy: 0.7877 - val_loss: 0.5113 - val_accuracy: 0.7619\n",
      "Epoch 54/150\n",
      "537/537 [==============================] - 0s 155us/step - loss: 0.4633 - accuracy: 0.7784 - val_loss: 0.5064 - val_accuracy: 0.7792\n",
      "Epoch 55/150\n",
      "537/537 [==============================] - 0s 155us/step - loss: 0.4606 - accuracy: 0.7765 - val_loss: 0.5132 - val_accuracy: 0.7446\n",
      "Epoch 56/150\n",
      "537/537 [==============================] - 0s 149us/step - loss: 0.4617 - accuracy: 0.7765 - val_loss: 0.5153 - val_accuracy: 0.7489\n"
     ]
    },
    {
     "name": "stdout",
     "output_type": "stream",
     "text": [
      "Epoch 57/150\n",
      "537/537 [==============================] - 0s 151us/step - loss: 0.4610 - accuracy: 0.7765 - val_loss: 0.5129 - val_accuracy: 0.7532\n",
      "Epoch 58/150\n",
      "537/537 [==============================] - 0s 158us/step - loss: 0.4609 - accuracy: 0.7784 - val_loss: 0.5029 - val_accuracy: 0.7749\n",
      "Epoch 59/150\n",
      "537/537 [==============================] - 0s 216us/step - loss: 0.4593 - accuracy: 0.7877 - val_loss: 0.5050 - val_accuracy: 0.7749\n",
      "Epoch 60/150\n",
      "537/537 [==============================] - 0s 151us/step - loss: 0.4590 - accuracy: 0.7747 - val_loss: 0.5054 - val_accuracy: 0.7662\n",
      "Epoch 61/150\n",
      "537/537 [==============================] - 0s 197us/step - loss: 0.4576 - accuracy: 0.7821 - val_loss: 0.5022 - val_accuracy: 0.7749\n",
      "Epoch 62/150\n",
      "537/537 [==============================] - 0s 255us/step - loss: 0.4533 - accuracy: 0.7803 - val_loss: 0.5199 - val_accuracy: 0.7403\n",
      "Epoch 63/150\n",
      "537/537 [==============================] - 0s 268us/step - loss: 0.4574 - accuracy: 0.7840 - val_loss: 0.5013 - val_accuracy: 0.7749\n",
      "Epoch 64/150\n",
      "537/537 [==============================] - 0s 205us/step - loss: 0.4578 - accuracy: 0.7803 - val_loss: 0.5011 - val_accuracy: 0.7749\n",
      "Epoch 65/150\n",
      "537/537 [==============================] - 0s 186us/step - loss: 0.4539 - accuracy: 0.7840 - val_loss: 0.5041 - val_accuracy: 0.7792\n",
      "Epoch 66/150\n",
      "537/537 [==============================] - 0s 175us/step - loss: 0.4544 - accuracy: 0.7821 - val_loss: 0.5085 - val_accuracy: 0.7619\n",
      "Epoch 67/150\n",
      "537/537 [==============================] - 0s 222us/step - loss: 0.4572 - accuracy: 0.7840 - val_loss: 0.5003 - val_accuracy: 0.7706\n",
      "Epoch 68/150\n",
      "537/537 [==============================] - 0s 207us/step - loss: 0.4542 - accuracy: 0.7877 - val_loss: 0.5009 - val_accuracy: 0.7662\n",
      "Epoch 69/150\n",
      "537/537 [==============================] - 0s 175us/step - loss: 0.4541 - accuracy: 0.7858 - val_loss: 0.5015 - val_accuracy: 0.7749\n",
      "Epoch 70/150\n",
      "537/537 [==============================] - 0s 190us/step - loss: 0.4553 - accuracy: 0.7747 - val_loss: 0.5020 - val_accuracy: 0.7749\n",
      "Epoch 71/150\n",
      "537/537 [==============================] - 0s 194us/step - loss: 0.4530 - accuracy: 0.7784 - val_loss: 0.5005 - val_accuracy: 0.7706\n",
      "Epoch 72/150\n",
      "537/537 [==============================] - 0s 186us/step - loss: 0.4545 - accuracy: 0.7821 - val_loss: 0.4989 - val_accuracy: 0.7749\n",
      "Epoch 73/150\n",
      "537/537 [==============================] - 0s 186us/step - loss: 0.4542 - accuracy: 0.7840 - val_loss: 0.5051 - val_accuracy: 0.7662\n",
      "Epoch 74/150\n",
      "537/537 [==============================] - 0s 194us/step - loss: 0.4540 - accuracy: 0.7747 - val_loss: 0.5039 - val_accuracy: 0.7662\n",
      "Epoch 75/150\n",
      "537/537 [==============================] - 0s 237us/step - loss: 0.4527 - accuracy: 0.7803 - val_loss: 0.4979 - val_accuracy: 0.7835\n",
      "Epoch 76/150\n",
      "537/537 [==============================] - 0s 190us/step - loss: 0.4523 - accuracy: 0.7821 - val_loss: 0.4981 - val_accuracy: 0.7835\n",
      "Epoch 77/150\n",
      "537/537 [==============================] - 0s 203us/step - loss: 0.4508 - accuracy: 0.7747 - val_loss: 0.5104 - val_accuracy: 0.7662\n",
      "Epoch 78/150\n",
      "537/537 [==============================] - 0s 184us/step - loss: 0.4494 - accuracy: 0.7858 - val_loss: 0.5078 - val_accuracy: 0.7619\n",
      "Epoch 79/150\n",
      "537/537 [==============================] - 0s 194us/step - loss: 0.4528 - accuracy: 0.7728 - val_loss: 0.4975 - val_accuracy: 0.7835\n",
      "Epoch 80/150\n",
      "537/537 [==============================] - 0s 177us/step - loss: 0.4527 - accuracy: 0.7784 - val_loss: 0.4970 - val_accuracy: 0.7706\n",
      "Epoch 81/150\n",
      "537/537 [==============================] - 0s 156us/step - loss: 0.4508 - accuracy: 0.7840 - val_loss: 0.5031 - val_accuracy: 0.7706\n",
      "Epoch 82/150\n",
      "537/537 [==============================] - 0s 196us/step - loss: 0.4507 - accuracy: 0.7784 - val_loss: 0.4974 - val_accuracy: 0.7835\n",
      "Epoch 83/150\n",
      "537/537 [==============================] - 0s 188us/step - loss: 0.4522 - accuracy: 0.7747 - val_loss: 0.4967 - val_accuracy: 0.7879\n",
      "Epoch 84/150\n",
      "537/537 [==============================] - 0s 164us/step - loss: 0.4509 - accuracy: 0.7896 - val_loss: 0.4987 - val_accuracy: 0.7706\n",
      "Epoch 85/150\n",
      "537/537 [==============================] - 0s 156us/step - loss: 0.4498 - accuracy: 0.7858 - val_loss: 0.4975 - val_accuracy: 0.7662\n",
      "Epoch 86/150\n",
      "537/537 [==============================] - 0s 173us/step - loss: 0.4516 - accuracy: 0.7877 - val_loss: 0.4953 - val_accuracy: 0.7879\n",
      "Epoch 87/150\n",
      "537/537 [==============================] - 0s 166us/step - loss: 0.4482 - accuracy: 0.7858 - val_loss: 0.4962 - val_accuracy: 0.7662\n",
      "Epoch 88/150\n",
      "537/537 [==============================] - 0s 173us/step - loss: 0.4507 - accuracy: 0.7747 - val_loss: 0.5000 - val_accuracy: 0.7835\n",
      "Epoch 89/150\n",
      "537/537 [==============================] - 0s 166us/step - loss: 0.4491 - accuracy: 0.7858 - val_loss: 0.5030 - val_accuracy: 0.7749\n",
      "Epoch 90/150\n",
      "537/537 [==============================] - 0s 190us/step - loss: 0.4517 - accuracy: 0.7821 - val_loss: 0.4974 - val_accuracy: 0.7792\n",
      "Epoch 91/150\n",
      "537/537 [==============================] - 0s 181us/step - loss: 0.4482 - accuracy: 0.7840 - val_loss: 0.4952 - val_accuracy: 0.7792\n",
      "Epoch 92/150\n",
      "537/537 [==============================] - 0s 173us/step - loss: 0.4507 - accuracy: 0.7709 - val_loss: 0.4956 - val_accuracy: 0.7879\n",
      "Epoch 93/150\n",
      "537/537 [==============================] - 0s 155us/step - loss: 0.4491 - accuracy: 0.7896 - val_loss: 0.5048 - val_accuracy: 0.7706\n",
      "Epoch 94/150\n",
      "537/537 [==============================] - 0s 162us/step - loss: 0.4482 - accuracy: 0.7803 - val_loss: 0.5002 - val_accuracy: 0.7792\n",
      "Epoch 95/150\n",
      "537/537 [==============================] - 0s 184us/step - loss: 0.4521 - accuracy: 0.7858 - val_loss: 0.4965 - val_accuracy: 0.7749\n",
      "Epoch 96/150\n",
      "537/537 [==============================] - 0s 168us/step - loss: 0.4477 - accuracy: 0.7858 - val_loss: 0.4953 - val_accuracy: 0.7706\n",
      "Epoch 97/150\n",
      "537/537 [==============================] - 0s 182us/step - loss: 0.4473 - accuracy: 0.7821 - val_loss: 0.4970 - val_accuracy: 0.7792\n",
      "Epoch 98/150\n",
      "537/537 [==============================] - 0s 177us/step - loss: 0.4474 - accuracy: 0.7914 - val_loss: 0.4956 - val_accuracy: 0.7749\n",
      "Epoch 99/150\n",
      "537/537 [==============================] - 0s 160us/step - loss: 0.4508 - accuracy: 0.7765 - val_loss: 0.4957 - val_accuracy: 0.7835\n",
      "Epoch 100/150\n",
      "537/537 [==============================] - 0s 179us/step - loss: 0.4484 - accuracy: 0.7821 - val_loss: 0.4957 - val_accuracy: 0.7749\n",
      "Epoch 101/150\n",
      "537/537 [==============================] - 0s 173us/step - loss: 0.4485 - accuracy: 0.7858 - val_loss: 0.5016 - val_accuracy: 0.7749\n",
      "Epoch 102/150\n",
      "537/537 [==============================] - 0s 162us/step - loss: 0.4468 - accuracy: 0.7821 - val_loss: 0.4947 - val_accuracy: 0.7835\n",
      "Epoch 103/150\n",
      "537/537 [==============================] - 0s 173us/step - loss: 0.4499 - accuracy: 0.7709 - val_loss: 0.4954 - val_accuracy: 0.7835\n",
      "Epoch 104/150\n",
      "537/537 [==============================] - 0s 158us/step - loss: 0.4448 - accuracy: 0.7840 - val_loss: 0.4948 - val_accuracy: 0.7835\n",
      "Epoch 105/150\n",
      "537/537 [==============================] - 0s 182us/step - loss: 0.4476 - accuracy: 0.7914 - val_loss: 0.4960 - val_accuracy: 0.7749\n",
      "Epoch 106/150\n",
      "537/537 [==============================] - 0s 181us/step - loss: 0.4476 - accuracy: 0.7709 - val_loss: 0.5013 - val_accuracy: 0.7749\n",
      "Epoch 107/150\n",
      "537/537 [==============================] - 0s 184us/step - loss: 0.4484 - accuracy: 0.7840 - val_loss: 0.4950 - val_accuracy: 0.7835\n",
      "Epoch 108/150\n",
      "537/537 [==============================] - 0s 179us/step - loss: 0.4474 - accuracy: 0.7709 - val_loss: 0.4938 - val_accuracy: 0.7792\n",
      "Epoch 109/150\n",
      "537/537 [==============================] - 0s 171us/step - loss: 0.4484 - accuracy: 0.7840 - val_loss: 0.4938 - val_accuracy: 0.7879\n",
      "Epoch 110/150\n",
      "537/537 [==============================] - 0s 164us/step - loss: 0.4470 - accuracy: 0.7821 - val_loss: 0.4945 - val_accuracy: 0.7835\n",
      "Epoch 111/150\n",
      "537/537 [==============================] - 0s 164us/step - loss: 0.4471 - accuracy: 0.7877 - val_loss: 0.5041 - val_accuracy: 0.7792\n",
      "Epoch 112/150\n",
      "537/537 [==============================] - 0s 160us/step - loss: 0.4470 - accuracy: 0.7803 - val_loss: 0.4932 - val_accuracy: 0.7879\n",
      "Epoch 113/150\n"
     ]
    },
    {
     "name": "stdout",
     "output_type": "stream",
     "text": [
      "537/537 [==============================] - 0s 160us/step - loss: 0.4471 - accuracy: 0.7952 - val_loss: 0.4944 - val_accuracy: 0.7749\n",
      "Epoch 114/150\n",
      "537/537 [==============================] - 0s 160us/step - loss: 0.4464 - accuracy: 0.7728 - val_loss: 0.4929 - val_accuracy: 0.7792\n",
      "Epoch 115/150\n",
      "537/537 [==============================] - 0s 162us/step - loss: 0.4467 - accuracy: 0.7840 - val_loss: 0.4988 - val_accuracy: 0.7706\n",
      "Epoch 116/150\n",
      "537/537 [==============================] - 0s 192us/step - loss: 0.4456 - accuracy: 0.7877 - val_loss: 0.5043 - val_accuracy: 0.7792\n",
      "Epoch 117/150\n",
      "537/537 [==============================] - 0s 155us/step - loss: 0.4462 - accuracy: 0.7821 - val_loss: 0.4937 - val_accuracy: 0.7835\n",
      "Epoch 118/150\n",
      "537/537 [==============================] - 0s 166us/step - loss: 0.4462 - accuracy: 0.7821 - val_loss: 0.4975 - val_accuracy: 0.7792\n",
      "Epoch 119/150\n",
      "537/537 [==============================] - 0s 182us/step - loss: 0.4444 - accuracy: 0.7877 - val_loss: 0.4971 - val_accuracy: 0.7792\n",
      "Epoch 120/150\n",
      "537/537 [==============================] - 0s 184us/step - loss: 0.4449 - accuracy: 0.7803 - val_loss: 0.4975 - val_accuracy: 0.7835\n",
      "Epoch 121/150\n",
      "537/537 [==============================] - 0s 173us/step - loss: 0.4467 - accuracy: 0.7765 - val_loss: 0.4927 - val_accuracy: 0.7792\n",
      "Epoch 122/150\n",
      "537/537 [==============================] - 0s 158us/step - loss: 0.4453 - accuracy: 0.7821 - val_loss: 0.4957 - val_accuracy: 0.7792\n",
      "Epoch 123/150\n",
      "537/537 [==============================] - 0s 175us/step - loss: 0.4405 - accuracy: 0.7803 - val_loss: 0.5032 - val_accuracy: 0.7792\n",
      "Epoch 124/150\n",
      "537/537 [==============================] - 0s 181us/step - loss: 0.4456 - accuracy: 0.7803 - val_loss: 0.4935 - val_accuracy: 0.7835\n",
      "Epoch 125/150\n",
      "537/537 [==============================] - 0s 181us/step - loss: 0.4458 - accuracy: 0.7821 - val_loss: 0.4934 - val_accuracy: 0.7835\n",
      "Epoch 126/150\n",
      "537/537 [==============================] - 0s 156us/step - loss: 0.4418 - accuracy: 0.7858 - val_loss: 0.5044 - val_accuracy: 0.7749\n",
      "Epoch 127/150\n",
      "537/537 [==============================] - 0s 182us/step - loss: 0.4443 - accuracy: 0.7821 - val_loss: 0.4953 - val_accuracy: 0.7792\n",
      "Epoch 128/150\n",
      "537/537 [==============================] - 0s 183us/step - loss: 0.4442 - accuracy: 0.7877 - val_loss: 0.4937 - val_accuracy: 0.7792\n",
      "Epoch 129/150\n",
      "537/537 [==============================] - 0s 182us/step - loss: 0.4441 - accuracy: 0.7858 - val_loss: 0.4966 - val_accuracy: 0.7835\n",
      "Epoch 130/150\n",
      "537/537 [==============================] - 0s 182us/step - loss: 0.4451 - accuracy: 0.7840 - val_loss: 0.4931 - val_accuracy: 0.7835\n",
      "Epoch 131/150\n",
      "537/537 [==============================] - 0s 179us/step - loss: 0.4452 - accuracy: 0.7840 - val_loss: 0.4933 - val_accuracy: 0.7835\n",
      "Epoch 132/150\n",
      "537/537 [==============================] - 0s 186us/step - loss: 0.4444 - accuracy: 0.7896 - val_loss: 0.4962 - val_accuracy: 0.7835\n",
      "Epoch 133/150\n",
      "537/537 [==============================] - 0s 168us/step - loss: 0.4437 - accuracy: 0.7784 - val_loss: 0.4930 - val_accuracy: 0.7835\n",
      "Epoch 134/150\n",
      "537/537 [==============================] - 0s 164us/step - loss: 0.4421 - accuracy: 0.7803 - val_loss: 0.4973 - val_accuracy: 0.7792\n",
      "Epoch 135/150\n",
      "537/537 [==============================] - 0s 199us/step - loss: 0.4437 - accuracy: 0.7765 - val_loss: 0.4990 - val_accuracy: 0.7706\n",
      "Epoch 136/150\n",
      "537/537 [==============================] - 0s 169us/step - loss: 0.4424 - accuracy: 0.7877 - val_loss: 0.5039 - val_accuracy: 0.7749\n",
      "Epoch 137/150\n",
      "537/537 [==============================] - 0s 169us/step - loss: 0.4419 - accuracy: 0.7896 - val_loss: 0.5068 - val_accuracy: 0.7576\n",
      "Epoch 138/150\n",
      "537/537 [==============================] - 0s 182us/step - loss: 0.4428 - accuracy: 0.7765 - val_loss: 0.4960 - val_accuracy: 0.7835\n",
      "Epoch 139/150\n",
      "537/537 [==============================] - 0s 186us/step - loss: 0.4420 - accuracy: 0.7840 - val_loss: 0.5053 - val_accuracy: 0.7749\n",
      "Epoch 140/150\n",
      "537/537 [==============================] - 0s 166us/step - loss: 0.4445 - accuracy: 0.7821 - val_loss: 0.4929 - val_accuracy: 0.7792\n",
      "Epoch 141/150\n",
      "537/537 [==============================] - 0s 171us/step - loss: 0.4429 - accuracy: 0.7821 - val_loss: 0.4967 - val_accuracy: 0.7749\n",
      "Epoch 142/150\n",
      "537/537 [==============================] - 0s 162us/step - loss: 0.4422 - accuracy: 0.7840 - val_loss: 0.4919 - val_accuracy: 0.7835\n",
      "Epoch 143/150\n",
      "537/537 [==============================] - 0s 169us/step - loss: 0.4441 - accuracy: 0.7765 - val_loss: 0.4926 - val_accuracy: 0.7792\n",
      "Epoch 144/150\n",
      "537/537 [==============================] - 0s 160us/step - loss: 0.4423 - accuracy: 0.7914 - val_loss: 0.4914 - val_accuracy: 0.7835\n",
      "Epoch 145/150\n",
      "537/537 [==============================] - 0s 182us/step - loss: 0.4440 - accuracy: 0.7784 - val_loss: 0.4927 - val_accuracy: 0.7792\n",
      "Epoch 146/150\n",
      "537/537 [==============================] - 0s 181us/step - loss: 0.4423 - accuracy: 0.7840 - val_loss: 0.4922 - val_accuracy: 0.7792\n",
      "Epoch 147/150\n",
      "537/537 [==============================] - 0s 175us/step - loss: 0.4430 - accuracy: 0.7765 - val_loss: 0.4914 - val_accuracy: 0.7792\n",
      "Epoch 148/150\n",
      "537/537 [==============================] - 0s 162us/step - loss: 0.4441 - accuracy: 0.7765 - val_loss: 0.4939 - val_accuracy: 0.7792\n",
      "Epoch 149/150\n",
      "537/537 [==============================] - 0s 177us/step - loss: 0.4441 - accuracy: 0.7914 - val_loss: 0.4938 - val_accuracy: 0.7792\n",
      "Epoch 150/150\n",
      "537/537 [==============================] - 0s 171us/step - loss: 0.4429 - accuracy: 0.7914 - val_loss: 0.4934 - val_accuracy: 0.7792\n"
     ]
    }
   ],
   "source": [
    "hist = model.fit(X_train, y_train, \n",
    "          batch_size=10, epochs=150, verbose=1,\n",
    "          validation_data=(X_test, y_test))"
   ]
  },
  {
   "cell_type": "code",
   "execution_count": 25,
   "metadata": {},
   "outputs": [
    {
     "name": "stdout",
     "output_type": "stream",
     "text": [
      "231/231 [==============================] - 0s 61us/step\n",
      "Accuracy on pima: 0.7792207598686218\n"
     ]
    }
   ],
   "source": [
    "print(\"Accuracy on pima:\",model.evaluate(X_test, y_test)[1])"
   ]
  },
  {
   "cell_type": "code",
   "execution_count": 26,
   "metadata": {},
   "outputs": [
    {
     "data": {
      "image/png": "[encoded data removed]",
      "text/plain": [
       "<Figure size 432x288 with 1 Axes>"
      ]
     },
     "metadata": {
      "needs_background": "light"
     },
     "output_type": "display_data"
    }
   ],
   "source": [
    "plt.plot(hist.history['accuracy'])\n",
    "plt.plot(hist.history['val_accuracy'])\n",
    "plt.title('Diabetes predictions')\n",
    "plt.ylabel('Accuracy')\n",
    "plt.xlabel('Epoch')\n",
    "plt.legend(['Training set', 'Test set'], loc='lower right')\n",
    "plt.show()"
   ]
  }
 ],
 "metadata": {
  "kernelspec": {
   "display_name": "Python 3",
   "language": "python",
   "name": "python3"
  },
  "language_info": {
   "codemirror_mode": {
    "name": "ipython",
    "version": 3
   },
   "file_extension": ".py",
   "mimetype": "text/x-python",
   "name": "python",
   "nbconvert_exporter": "python",
   "pygments_lexer": "ipython3",
   "version": "3.6.10"
  }
 },
 "nbformat": 4,
 "nbformat_minor": 2
}
