{
 "cells": [
  {
   "cell_type": "markdown",
   "id": "white-evanescence",
   "metadata": {},
   "source": [
    "# NN for MNIST"
   ]
  },
  {
   "cell_type": "markdown",
   "id": "announced-agency",
   "metadata": {},
   "source": [
    "A simple neutral network for MNIST. [Source](https://github.com/keras-team/keras-io/blob/master/examples/vision/mnist_convnet.py) (modified). "
   ]
  },
  {
   "cell_type": "markdown",
   "id": "thirty-medium",
   "metadata": {},
   "source": [
    "## Setup"
   ]
  },
  {
   "cell_type": "code",
   "execution_count": 1,
   "id": "australian-chosen",
   "metadata": {},
   "outputs": [],
   "source": [
    "import numpy as np\n",
    "from tensorflow import keras\n",
    "from tensorflow.keras import layers"
   ]
  },
  {
   "cell_type": "markdown",
   "id": "liable-scenario",
   "metadata": {},
   "source": [
    "## Prepare the data"
   ]
  },
  {
   "cell_type": "code",
   "execution_count": 2,
   "id": "configured-roller",
   "metadata": {},
   "outputs": [
    {
     "name": "stdout",
     "output_type": "stream",
     "text": [
      "x_train shape: (60000, 28, 28, 1)\n",
      "60000 train samples\n",
      "10000 test samples\n"
     ]
    }
   ],
   "source": [
    "# Model / data parameters\n",
    "num_classes = 10\n",
    "input_shape = (28, 28, 1)\n",
    "\n",
    "# the data, split between train and test sets\n",
    "(x_train, y_train), (x_test, y_test) = keras.datasets.mnist.load_data()\n",
    "\n",
    "# Scale images to the [0, 1] range\n",
    "x_train = x_train.astype(\"float32\") / 255\n",
    "x_test = x_test.astype(\"float32\") / 255\n",
    "\n",
    "# Make sure images have shape (28, 28, 1)\n",
    "x_train = np.expand_dims(x_train, -1)\n",
    "x_test = np.expand_dims(x_test, -1)\n",
    "print(\"x_train shape:\", x_train.shape)\n",
    "print(x_train.shape[0], \"train samples\")\n",
    "print(x_test.shape[0], \"test samples\")\n",
    "\n",
    "# convert class vectors to binary class matrices\n",
    "y_train = keras.utils.to_categorical(y_train, num_classes)\n",
    "y_test = keras.utils.to_categorical(y_test, num_classes)\n"
   ]
  },
  {
   "cell_type": "markdown",
   "id": "grave-victorian",
   "metadata": {},
   "source": [
    "## Build the model"
   ]
  },
  {
   "cell_type": "code",
   "execution_count": 3,
   "id": "assisted-ready",
   "metadata": {},
   "outputs": [
    {
     "name": "stdout",
     "output_type": "stream",
     "text": [
      "Model: \"sequential\"\n",
      "_________________________________________________________________\n",
      "Layer (type)                 Output Shape              Param #   \n",
      "=================================================================\n",
      "flatten (Flatten)            (None, 784)               0         \n",
      "_________________________________________________________________\n",
      "dense (Dense)                (None, 32)                25120     \n",
      "_________________________________________________________________\n",
      "dense_1 (Dense)              (None, 10)                330       \n",
      "=================================================================\n",
      "Total params: 25,450\n",
      "Trainable params: 25,450\n",
      "Non-trainable params: 0\n",
      "_________________________________________________________________\n"
     ]
    }
   ],
   "source": [
    "model = keras.Sequential(\n",
    "    [\n",
    "        keras.Input(shape=input_shape),\n",
    "        layers.Flatten(),\n",
    "        layers.Dense(32, activation='relu'),\n",
    "        layers.Dense(num_classes, activation=\"softmax\"),        \n",
    "    ]\n",
    ")\n",
    "\n",
    "model.summary()"
   ]
  },
  {
   "cell_type": "markdown",
   "id": "divine-asbestos",
   "metadata": {},
   "source": [
    "## Train the model"
   ]
  },
  {
   "cell_type": "code",
   "execution_count": 4,
   "id": "alone-brush",
   "metadata": {},
   "outputs": [
    {
     "name": "stdout",
     "output_type": "stream",
     "text": [
      "Epoch 1/15\n",
      "422/422 [==============================] - 0s 1ms/step - loss: 0.5564 - accuracy: 0.8518 - val_loss: 0.2401 - val_accuracy: 0.9357\n",
      "Epoch 2/15\n",
      "422/422 [==============================] - 0s 794us/step - loss: 0.2631 - accuracy: 0.9269 - val_loss: 0.1923 - val_accuracy: 0.9498\n",
      "Epoch 3/15\n",
      "422/422 [==============================] - 0s 775us/step - loss: 0.2165 - accuracy: 0.9394 - val_loss: 0.1778 - val_accuracy: 0.9542\n",
      "Epoch 4/15\n",
      "422/422 [==============================] - 0s 768us/step - loss: 0.1895 - accuracy: 0.9460 - val_loss: 0.1575 - val_accuracy: 0.9585\n",
      "Epoch 5/15\n",
      "422/422 [==============================] - 0s 763us/step - loss: 0.1688 - accuracy: 0.9524 - val_loss: 0.1476 - val_accuracy: 0.9625\n",
      "Epoch 6/15\n",
      "422/422 [==============================] - 0s 765us/step - loss: 0.1538 - accuracy: 0.9560 - val_loss: 0.1390 - val_accuracy: 0.9642\n",
      "Epoch 7/15\n",
      "422/422 [==============================] - 0s 773us/step - loss: 0.1397 - accuracy: 0.9593 - val_loss: 0.1344 - val_accuracy: 0.9637\n",
      "Epoch 8/15\n",
      "422/422 [==============================] - 0s 761us/step - loss: 0.1290 - accuracy: 0.9632 - val_loss: 0.1303 - val_accuracy: 0.9630\n",
      "Epoch 9/15\n",
      "422/422 [==============================] - 0s 770us/step - loss: 0.1202 - accuracy: 0.9651 - val_loss: 0.1281 - val_accuracy: 0.9652\n",
      "Epoch 10/15\n",
      "422/422 [==============================] - 0s 781us/step - loss: 0.1117 - accuracy: 0.9671 - val_loss: 0.1245 - val_accuracy: 0.9655\n",
      "Epoch 11/15\n",
      "422/422 [==============================] - 0s 903us/step - loss: 0.1041 - accuracy: 0.9695 - val_loss: 0.1232 - val_accuracy: 0.9660\n",
      "Epoch 12/15\n",
      "422/422 [==============================] - 0s 905us/step - loss: 0.0981 - accuracy: 0.9718 - val_loss: 0.1167 - val_accuracy: 0.9692\n",
      "Epoch 13/15\n",
      "422/422 [==============================] - 0s 914us/step - loss: 0.0924 - accuracy: 0.9726 - val_loss: 0.1161 - val_accuracy: 0.9697\n",
      "Epoch 14/15\n",
      "422/422 [==============================] - 0s 973us/step - loss: 0.0879 - accuracy: 0.9746 - val_loss: 0.1145 - val_accuracy: 0.9678\n",
      "Epoch 15/15\n",
      "422/422 [==============================] - 0s 888us/step - loss: 0.0829 - accuracy: 0.9759 - val_loss: 0.1140 - val_accuracy: 0.9683\n"
     ]
    },
    {
     "data": {
      "text/plain": [
       "<tensorflow.python.keras.callbacks.History at 0x299260d1580>"
      ]
     },
     "execution_count": 4,
     "metadata": {},
     "output_type": "execute_result"
    }
   ],
   "source": [
    "batch_size = 128\n",
    "epochs = 15\n",
    "\n",
    "model.compile(loss=\"categorical_crossentropy\", optimizer=\"adam\", metrics=[\"accuracy\"])\n",
    "\n",
    "model.fit(x_train, y_train, batch_size=batch_size, epochs=epochs, validation_split=0.1)"
   ]
  },
  {
   "cell_type": "markdown",
   "id": "passive-campus",
   "metadata": {},
   "source": [
    "## Evaluate the trained model"
   ]
  },
  {
   "cell_type": "code",
   "execution_count": 5,
   "id": "above-herald",
   "metadata": {},
   "outputs": [
    {
     "name": "stdout",
     "output_type": "stream",
     "text": [
      "Test loss: 0.11771012097597122\n",
      "Test accuracy: 0.9659000039100647\n"
     ]
    }
   ],
   "source": [
    "score = model.evaluate(x_test, y_test, verbose=0)\n",
    "print(\"Test loss:\", score[0])\n",
    "print(\"Test accuracy:\", score[1])"
   ]
  }
 ],
 "metadata": {
  "kernelspec": {
   "display_name": "Python 3 (ipykernel)",
   "language": "python",
   "name": "python3"
  },
  "language_info": {
   "codemirror_mode": {
    "name": "ipython",
    "version": 3
   },
   "file_extension": ".py",
   "mimetype": "text/x-python",
   "name": "python",
   "nbconvert_exporter": "python",
   "pygments_lexer": "ipython3",
   "version": "3.9.10"
  }
 },
 "nbformat": 4,
 "nbformat_minor": 5
}
