{
 "cells": [
  {
   "cell_type": "markdown",
   "metadata": {},
   "source": [
    "# BFS"
   ]
  },
  {
   "cell_type": "markdown",
   "metadata": {},
   "source": [
    "Based on [this](https://github.com/chitholian/AI-Search-Algorithms)."
   ]
  },
  {
   "cell_type": "code",
   "execution_count": 1,
   "metadata": {},
   "outputs": [],
   "source": [
    "from collections import deque"
   ]
  },
  {
   "cell_type": "code",
   "execution_count": 2,
   "metadata": {},
   "outputs": [
    {
     "data": {
      "text/plain": [
       "['Cheddar', 'Gouda', 'Edam']"
      ]
     },
     "execution_count": 2,
     "metadata": {},
     "output_type": "execute_result"
    }
   ],
   "source": [
    "cheeses = ['Cheddar', 'Gouda']\n",
    "cheeses.append('Edam')\n",
    "cheeses"
   ]
  },
  {
   "cell_type": "code",
   "execution_count": 3,
   "metadata": {},
   "outputs": [
    {
     "data": {
      "text/plain": [
       "'Edam'"
      ]
     },
     "execution_count": 3,
     "metadata": {},
     "output_type": "execute_result"
    }
   ],
   "source": [
    "cheeses.pop()"
   ]
  },
  {
   "cell_type": "markdown",
   "metadata": {},
   "source": [
    "## Graph class"
   ]
  },
  {
   "cell_type": "code",
   "execution_count": 4,
   "metadata": {},
   "outputs": [],
   "source": [
    "class Graph:\n",
    "    def __init__(self, directed=True):\n",
    "        self.edges = {}\n",
    "        self.directed = directed\n",
    "\n",
    "    def add_edge(self, node1, node2, __reversed=False):\n",
    "        try: neighbors = self.edges[node1]\n",
    "        except KeyError: neighbors = set()\n",
    "        neighbors.add(node2)\n",
    "        self.edges[node1] = neighbors\n",
    "        if not self.directed and not __reversed: self.add_edge(node2, node1, True)\n",
    "\n",
    "    def neighbors(self, node):\n",
    "        try: return self.edges[node]\n",
    "        except KeyError: return []\n",
    "\n",
    "    def depth_first_search(self, start, goal):\n",
    "        found, fringe, visited, came_from = False, deque([start]), set([start]), {start: None}\n",
    "        print('{:11s} | {}'.format('Expand Node', 'Fringe'))\n",
    "        print('--------------------')\n",
    "        print('{:11s} | {}'.format('-', start))\n",
    "        while not found and len(fringe):\n",
    "            current = fringe.pop() # Take the last node of the fringe\n",
    "            print('{:11s}'.format(current), end=' | ')\n",
    "            if current == goal: found = True; break\n",
    "            for node in self.neighbors(current):\n",
    "                #The following line is the only difference between DFS and BFS:\n",
    "                #Append node to the end of the fringe (depth first)\n",
    "                if node not in visited: visited.add(node); fringe.append(node); came_from[node] = current\n",
    "            print(', '.join(fringe))\n",
    "        if found: print(); return came_from\n",
    "        else: print('No path from {} to {}'.format(start, goal))\n",
    "\n",
    "    @staticmethod\n",
    "    def print_path(came_from, goal):\n",
    "        parent = came_from[goal]\n",
    "        if parent:\n",
    "            Graph.print_path(came_from, parent)\n",
    "        else: print(goal, end='');return\n",
    "        print(' =>', goal, end='')\n",
    "\n",
    "\n",
    "    def __str__(self):\n",
    "        return str(self.edges)"
   ]
  },
  {
   "cell_type": "markdown",
   "metadata": {},
   "source": [
    "## Graph "
   ]
  },
  {
   "cell_type": "code",
   "execution_count": 5,
   "metadata": {},
   "outputs": [],
   "source": [
    "graph = Graph(directed=False)\n",
    "graph.add_edge('A', 'B')\n",
    "graph.add_edge('A', 'S')\n",
    "graph.add_edge('S', 'G')\n",
    "graph.add_edge('S', 'C')\n",
    "graph.add_edge('C', 'F')\n",
    "graph.add_edge('G', 'F')\n",
    "graph.add_edge('C', 'D')\n",
    "graph.add_edge('C', 'E')\n",
    "graph.add_edge('E', 'H')\n",
    "graph.add_edge('G', 'H')\n",
    "\n",
    "start, goal = 'A', 'H'"
   ]
  },
  {
   "cell_type": "markdown",
   "metadata": {},
   "source": [
    "# Run it"
   ]
  },
  {
   "cell_type": "code",
   "execution_count": 7,
   "metadata": {},
   "outputs": [
    {
     "name": "stdout",
     "output_type": "stream",
     "text": [
      "Expand Node | Fringe\n",
      "--------------------\n",
      "-           | A\n",
      "A           | B, S\n",
      "S           | B, C, G\n",
      "G           | B, C, H, F\n",
      "F           | B, C, H\n",
      "H           | \n",
      "Path: A => S => G => H\n"
     ]
    }
   ],
   "source": [
    "traced_path = graph.depth_first_search(start, goal)\n",
    "if (traced_path): print('Path:', end=' '); Graph.print_path(traced_path, goal);print()"
   ]
  },
  {
   "cell_type": "code",
   "execution_count": null,
   "metadata": {},
   "outputs": [],
   "source": []
  }
 ],
 "metadata": {
  "kernelspec": {
   "display_name": "Python 3",
   "language": "python",
   "name": "python3"
  },
  "language_info": {
   "codemirror_mode": {
    "name": "ipython",
    "version": 3
   },
   "file_extension": ".py",
   "mimetype": "text/x-python",
   "name": "python",
   "nbconvert_exporter": "python",
   "pygments_lexer": "ipython3",
   "version": "3.7.4"
  }
 },
 "nbformat": 4,
 "nbformat_minor": 4
}
