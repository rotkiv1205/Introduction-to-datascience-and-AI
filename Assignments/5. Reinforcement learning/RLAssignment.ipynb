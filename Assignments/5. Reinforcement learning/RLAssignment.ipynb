{
 "cells": [
  {
   "cell_type": "markdown",
   "metadata": {},
   "source": [
    "$\\qquad$ $\\qquad$$\\qquad$  **DAT405 Introduction to Data Science and AI, 2019-2020, Reading Period 3** <br />\n",
    "$\\qquad$ $\\qquad$$\\qquad$                   **Assignment 5: Reinforcement learning and Classification 2** <br />\n",
    "$\\qquad$ $\\qquad$$\\qquad$                   **Grader: Newton** <br />\n",
    "$\\qquad$ $\\qquad$$\\qquad$                     **Due Date: 23rd February, 23:59** <br />\n",
    "$\\qquad$ $\\qquad$$\\qquad$                   **Submitted by: Name, Personal No., Email** <br />\n",
    "\n",
    "\n",
    "---\n",
    "\n",
    "\n",
    "General guidelines:\n",
    "*   All solutions to theoretical and pratical problems must be submitted in this ipynb notebook, and equations wherever required, should be formatted using LaTeX math-mode.\n",
    "*   All discussion regarding practical problems, along with solutions and plots should be specified in this notebook. All plots/results should be visible such that the notebook do not have to be run. But the code in the notebook should reproduce the plots/results if we choose to do so.\n",
    "*   Your name, personal number and email address should be specified above.\n",
    "*   All tables and other additional information should be included in this notebook.\n",
    "*   Before submitting, make sure that your code can run on another computer. That all plots can show on another computer including all your writing. It is good to check if your code can run here: https://colab.research.google.com.\n"
   ]
  },
  {
   "cell_type": "markdown",
   "metadata": {},
   "source": [
    "Self-check \n",
    "1. Have you answered all questions to the best of your ability? \n",
    "2. Anything else you can easily check? (details, terminology, arguments, commenting for code etc.?) \n",
    "\n",
    "Grading will be based on a qualitative assessment of each assignment. It is important to:\n",
    "*\tPresent clear arguments\n",
    "*\tPresent the results in a pedagogical way\n",
    "*\tShow understanding of the topics (e.g, write a pseudocode) \n",
    "*\tGive correct solutions\n",
    "*\tMake sure that the code is well commented \n",
    "\n",
    "**Again, as mentioned in general guidelines, all code should be written here. And this same ipython notebook file (RLAssignment.ipynb) should be submitted with answers and code written in it. NO SEPERATE FILE SHALL BE ACCEPTED.** \n"
   ]
  },
  {
   "cell_type": "markdown",
   "metadata": {},
   "source": [
    "# Primer\n",
    "\n",
    "## Decision Making\n",
    "The problem of **decision making under uncertainty** (commonly known as **reinforcement learning**) can be broken down into\n",
    "two parts. First, how do we learn about the world? This involves both the\n",
    "problem of modeling our initial uncertainty about the world, and that of drawing conclusions from evidence and our initial belief. Secondly, given what we\n",
    "currently know about the world, how should we decide what to do, taking into\n",
    "account future events and observations that may change our conclusions?\n",
    "Typically, this will involve creating long-term plans covering possible future\n",
    "eventualities. That is, when planning under uncertainty, we also need to take\n",
    "into account what possible future knowledge could be generated when implementing our plans. Intuitively, executing plans which involve trying out new\n",
    "things should give more information, but it is hard to tell whether this information will be beneficial. The choice between doing something which is already\n",
    "known to produce good results and experiment with something new is known\n",
    "as the **exploration-exploitation dilemma**.\n",
    "\n",
    "## The exploration-exploitation trade-off\n",
    "\n",
    "Consider the problem of selecting a restaurant to go to during a vacation.Lets say the\n",
    "best restaurant you have found so far was **Les Epinards**. The food there is\n",
    "usually to your taste and satisfactory. However, a well-known recommendations\n",
    "website suggests that **King’s Arm** is really good! It is tempting to try it out. But\n",
    "there is a risk involved. It may turn out to be much worse than **Les Epinards**,\n",
    "in which case you will regret going there. On the other hand, it could also be\n",
    "much better. What should you do?\n",
    "It all depends on how much information you have about either restaurant,\n",
    "and how many more days you’ll stay in town. If this is your last day, then it’s\n",
    "probably a better idea to go to **Les Epinards**, unless you are expecting **King’s\n",
    "Arm** to be significantly better. However, if you are going to stay there longer,\n",
    "trying out **King’s Arm** is a good bet. If you are lucky, you will be getting much\n",
    "better food for the remaining time, while otherwise you will have missed only\n",
    "one good meal out of many, making the potential risk quite small."
   ]
  },
  {
   "cell_type": "markdown",
   "metadata": {},
   "source": [
    "## Overview\n",
    "* To make things concrete, we will first focus on decision making under **no** uncertainity, i.e, given we have a world model, we can calculate the exact and optimal actions to take in it. We shall first introduce **Markov Decision Process (MDP)** as the world model. Then we give one algorithm (out of many) to solve it.\n",
    "\n",
    "\n",
    "* Next, we will work through one type of reinforcement learning algorithm called Q-learning. Q-learning is an algorithm for making decisions under uncertainity, where uncertainity is over the possible world model (here MDP). It will find the optimal policy for the **unknown** MDP, assuming we do infinite exploration."
   ]
  },
  {
   "cell_type": "markdown",
   "metadata": {},
   "source": [
    "## Markov Decision Process"
   ]
  },
  {
   "cell_type": "markdown",
   "metadata": {},
   "source": [
    "Markov Decision Process (MDP) provides a mathematical framework for modeling decision-making. It is a discrete time (distinct points in time) stochastic (randomly determined) process.\n",
    "\n",
    "MDPs are made up of 4 parts:  \n",
    "S: Finite set of states (Ex: s<sub>1</sub>, s<sub>2</sub> ... s<sub>N</sub>)  \n",
    "A: Finite set of actions (Ex: North, South, East, West)  \n",
    "P<sub>a</sub>(s,s'): Probability that action *a* in state *s* at time *t* will lead to state *s'* at time *t + 1*  \n",
    "R<sub>a</sub>(s,s'): Immediate reward received after moving from state *s* to state *s'* by action *a*\n",
    "\n",
    "An agent acts in an MDP at time *t*, by taking certain action *a* in state *s*, going to state *s'*, and getting a reward *r* from the world. It then repeats the process for certain no. of times, either finite or infinite.\n",
    "\n",
    "We also include a $5^{th}$ part in the description of an MDP called Gamma $\\gamma$.  \n",
    "$\\gamma$: The discount factor between 0 (inclusive) and 1 (exclusive). This determines how much credit you want to give to the future. If you think that the future reward is as important as the current reward you would set this to 0.99999. If you don't care about the future rewards you would set this to 0 and you only care about the current reward. For example, if your discount factor is 0.8 and after 5 steps you get a reward of 4 the present value of that reward is $0.8^4 * 5$ or ~2.\n",
    "\n",
    "An MDP is a collection of states such that each state has a selection of actions associated with them. With each state-action pair comes a reward *r* (can be 0). Define a policy function: $\\pi: s \\rightarrow a$, which tells which action to take at each state.\n",
    "  \n",
    "We now use the famous dynamic programming equation, also known as Bellman Equation, to define optimality in an MDP. The following equation defines what we call the **value function** of state *s* following some fixed policy $\\pi$:  \n",
    "\n",
    "$$V^\\pi(s) = \\sum_{s'} P_{\\pi(s)}(s,s') [R_{\\pi(s)}(s,s') + \\gamma V^\\pi(s')]$$\n",
    "\n",
    "We call $V^\\pi$ as the value of policy $\\pi$.  \n",
    "  \n",
    "Now, to find the **optimal** policy you will need to find the action that gives the highest reward.  \n",
    "\n",
    "$$V^*(s) = max_a \\sum_{s'} P_a(s,s') [R_a(s,s') + \\gamma V^*(s')]$$\n",
    "\n",
    "A real world example would be an inventory control system. Your states would be the amount of items you have in stock. Your actions would be the amount to order. The discrete time would be the days of the month. The reward would be the profit.  \n",
    "\n",
    "A major drawback of MDPs is called the \"Curse of Dimensionality\". This states that the more states/actions you have the more computational difficult it is to solve.   \n"
   ]
  },
  {
   "cell_type": "markdown",
   "metadata": {},
   "source": [
    "## Question 1 (1 point)"
   ]
  },
  {
   "cell_type": "markdown",
   "metadata": {},
   "source": [
    "For the first question of the notebook, we give a quick example of an MDP. We would to see if you can put the definitions above into practice.\n",
    "\n",
    "**Question a**: Given the following deterministic MDP (you select North, you move North), what is the optimal policy (path with the most points)?\n",
    "  \n",
    "*Notes*:  \n",
    "  * The number in the box is the reward.  \n",
    "  * Once you hit the end you are done. (Absorbing state)\n",
    "  * S is the starting point.  \n",
    "  * F is the ending point.  \n",
    "  * Use N for North, E for East, S for South, and W for West. Not all actions are available at each state, for example, you can't choose N and W at starting state, as there exists no valid next states in those directions.  \n",
    "  * Pass the directions as a single string. Ex: ESWN will make a circle.  \n",
    "  \n",
    "\n",
    "\n",
    "| | | |\n",
    "|----------|----------|---------|\n",
    "|S|1|1|\n",
    "|1 |0|1|  \n",
    "|-1|-1|0|  \n",
    "|0 |0|F|"
   ]
  },
  {
   "cell_type": "markdown",
   "metadata": {},
   "source": [
    "**Answer a:**\n",
    "\n",
    "* E: (1,0), rewarded 1 point\n",
    "* E: (2,0), rewarded 1 point\n",
    "* S: (2,1), rewarded 1 point\n",
    "* S: (2,2), rewarded 0 point\n",
    "* S: (2,3), rewarded 0 point\n",
    "\n",
    "* Total sum: 3 points.\n",
    "\n",
    "The optimal policy for the MDP is the following actions: EESSS.\n",
    "The reason to this is that this path gives the highest score, which is 3. For example, if path SEESS is taken, only two points are rewarded instead."
   ]
  },
  {
   "cell_type": "markdown",
   "metadata": {},
   "source": [
    "Question b,c will attempt to firm up your knowledge of the parts of an MDP. Just remember that for a state denoted by (x,y), state N/E/S/W to that are (x,y-1),(x+1,y),(x,y+1),(x-1,y) respectively. We take (0,0) as the starting state S.\n",
    "\n",
    "**Question b:** What is the probability of going from state (1,0) to state (2,0) using action E ? ( i.e,  $P_E((1,0),(2,0))$ )\n",
    "\n",
    "**Question c:** What is the reward for moving from state (1,0) to state (2,0) ? ( i.e, $R_E((1,0),(2,0))$ )"
   ]
  },
  {
   "cell_type": "markdown",
   "metadata": {},
   "source": [
    "**Answer b:**\n",
    "\n",
    "Since nothing is mentioned about the success of any action, 100% success is assumed. The probability of going from state (1,0) to state (2,0) using action E is then 100%. However, if the success of any action is lower then 100%, the probability of going state (1,0) to state (2,0) using action E will be lower.\n",
    "\n",
    "**Answer c:**\n",
    "\n",
    "The reward for moving from state (1,0) to (2,0) is 1.0. "
   ]
  },
  {
   "cell_type": "markdown",
   "metadata": {},
   "source": [
    "## Value Iteration"
   ]
  },
  {
   "cell_type": "markdown",
   "metadata": {},
   "source": [
    "The value iteration is one algorithm that can be used to find the optimal policy ($\\pi^*$). Note that for any policy $\\pi^*$ to be optimal, it must satisfy the Bellman equation for optimal value function $V^*$. For any candidate $V^*$, it must be such that plugging it in the RHS (right-hand-side) of Bellman equation should give the same $V^*$ again (by the recursive nature of this equation). This property will form the basis of our algorithm. Essentially, due to certain mathematical results, repeated application of RHS to any intial value function $V^0(s)$ will eventually lead to the value $V$ which statifies the Bellman equation. Hence repeated application of Bellman equation for optimal value function will also lead to optimal value function, we can then extract the optimal actions by simply noting the actions that satisfy the equation.    \n",
    "\n",
    "The value function is based on the Bellman Equation for optimal value, which we recall here:  \n",
    "$$V^*(s) = max_a \\sum_{s'} P_a(s,s') [R_a(s,s') + \\gamma V^*(s')]$$"
   ]
  },
  {
   "cell_type": "markdown",
   "metadata": {},
   "source": [
    "Example: Below is a 3x3 grid. We are going to walk through a few iterations to firm up your understanding. Lets assume this time that success of taking any action is 0.8. Meaning if we take E from a valid state (x,y), we will go (x+1,y) 0.8 percent of time, but remain in same state the remaining time. We will have a discount factor ($\\gamma$) of 0.9. Assume $V^0(s')=0$ for all s'. \n",
    "\n",
    "| | | |  \n",
    "|----------|----------|---------|  \n",
    "|0|0|0|\n",
    "|0|10|0|  \n",
    "|0|0|0|  \n",
    "\n",
    "\n",
    "**Iteration 1**: It is trivial, V(s) becomes the $max_a \\sum_{s'} P_a(s,s') R_a(s,s')$ since $V^0$ was zero for s'.\n",
    "\n",
    "| | | |  \n",
    "|----------|----------|---------|  \n",
    "|0|8|0|\n",
    "|8|2|8|  \n",
    "|0|8|0|  \n",
    "  \n",
    "**Iteration 2**:  \n",
    "  \n",
    "Staring with cell (0,0): We find the expected value of each move:  \n",
    "Action N: 0  \n",
    "Action E: 0.8( 0 + 0.9 \\* 8) + 0.2(0 + 0.9 \\* 0) = 5.76  \n",
    "Action S: 0.8( 0 + 0.9 \\* 8) + 0.2(0 + 0.9 \\* 0) = 5.76  \n",
    "Action W: 0\n",
    "\n",
    "Hence any action between E and S would have been best at this stage.\n",
    "\n",
    "Similarly for cell (1,0):\n",
    "\n",
    "Action S: 0.8( 10 + 0.9 \\* 2) + 0.2(0 + 0.9 \\* 8) = 10.88 (Action S is the maximizing action)  \n",
    "\n",
    "Similar calculations for remaining cells give us:\n",
    "\n",
    "| | | |  \n",
    "|----------|----------|---------|  \n",
    "|5.76|10.88|5.76|\n",
    "|10.88|8.12|10.88|  \n",
    "|5.76|10.88|5.76|  \n"
   ]
  },
  {
   "cell_type": "markdown",
   "metadata": {},
   "source": [
    "## Question 2 (2 points)\n",
    "Please code the value iteration algorithm just described here, and show the optimal value function of the above 3x3 grid problem at convergence."
   ]
  },
  {
   "cell_type": "code",
   "execution_count": 6,
   "metadata": {},
   "outputs": [
    {
     "name": "stdout",
     "output_type": "stream",
     "text": [
      "[[43.59201213 49.44554242 44.91163669]\n",
      " [50.49884969 47.49174068 51.45614339]\n",
      " [44.08077857 49.51107845 44.92048008]]\n"
     ]
    }
   ],
   "source": [
    "import copy\n",
    "import numpy as np\n",
    "\n",
    "action_success = 0.8\n",
    "discount_factor = 0.9\n",
    "\n",
    "# 3x3 grid\n",
    "grid = np.array([[0, 0, 0],[0, 10, 0],[0, 0, 0]]).reshape(3,3).astype(float) #Original grid\n",
    "optimal = np.array([[0, 0, 0],[0, 0, 0],[0, 0, 0]]).reshape(3,3).astype(float) #Final solution\n",
    "prev_optimal = np.array([[0, 0, 0],[0, 0, 0],[0, 0, 0]]).reshape(3,3).astype(float) # grid to compare with the final\n",
    "                                                                                    # solution, one step behind.\n",
    "\n",
    "difference  = 1 #initialize difference\n",
    "while difference > 0.001: #coverges when difference is 0, 0.001 is close enough\n",
    "    for x in range(3): #collumns\n",
    "        for y in range(3): #rows\n",
    "            #initialize directions\n",
    "            N = (x,y-1)\n",
    "            E = (x+1,y)\n",
    "            S = (x,y+1)\n",
    "            W = (x-1,y)\n",
    "            \n",
    "            #initialize rewards\n",
    "            Re = 0.0\n",
    "            Re_max = 0.0\n",
    "            for direction in [N,E,S,W]:\n",
    "                try: \n",
    "                    Re = action_success*(grid[direction]+discount_factor*optimal[direction])+(1-action_success)*(grid[x,y]+discount_factor*optimal[x,y])\n",
    "                    Re_max = max(Re, Re_max) #if Re bigger than Re_max, replace Re_max\n",
    "                except IndexError:#if direction out of bounds, pass\n",
    "                    pass\n",
    "                optimal[x,y] = Re_max\n",
    "    #compute difference and copy current optimal grid\n",
    "    difference = np.absolute(optimal-prev_optimal).sum()\n",
    "    prev_optimal = copy.deepcopy(optimal)\n",
    "\n",
    "print(optimal)"
   ]
  },
  {
   "cell_type": "markdown",
   "metadata": {},
   "source": [
    "## Reinforcement Learning (RL)\n",
    "Until now, we understood that knowing the MDP, specifically $P_a(s,s')$ and $R_a(s,s')$ allows us to efficiently find the optimal policy using value iteration algorithm, but RL or decision making under uncertainity arises from the question of making optimal decisions without knowing the true world model (MDP in this case).\n",
    "\n",
    "So far we have defined the value of a state $V^\\pi$, let us define the value of an action, $Q^\\pi$:\n",
    "\n",
    "$$Q^\\pi(s,a) = \\sum_{s'} P_a(s,s') [R_a(s,s') + \\gamma V^\\pi(s')]$$\n",
    "\n",
    "i.e, the value of taking action a from state s and then following $\\pi$ onwards. Similarly, the optimal Q-value equation is:\n",
    "\n",
    "$$Q^*(s,a) = \\sum_{s'} P_a(s,s') [R_a(s,s') + \\gamma V^*(s')]$$\n",
    "\n",
    "## Q-learning\n",
    "\n",
    "Q-learning algorithm can be used by an agent unaware of its surroundings (unknown MDP). All it can do is take an action a at time t from state s and observe the reward r and next state s', and repeat this process again. So how it can learn to act optimally under such uninformative conditions ? Answer is using Q-learning. Without going into its justification, we simply state the main-update rule of this algorithm below:\n",
    "\n",
    "![alt text](https://chalmersuniversity.box.com/shared/static/5anbos4s9luoayb32jk6w3wy3w4jk3g3.png)\n",
    "\n",
    "Where we simply maintain Q(s,a) value for each state-action pair in a table. It is proven to converge to the optimal policy of the underlying unknown MDP for certain values of learning rate $\\alpha$. For our case, we set a constant $\\alpha=0.1$.\n",
    "\n",
    "## OpenAI Gym\n",
    "\n",
    "We shall use already available simulators for different environments (world) using the popular OpenAI Gym library. It just implements [differnt types of simulators](https://gym.openai.com/) including ATARI games. Although here we will only focus on simple ones, such as [Chain enviroment](https://gym.openai.com/envs/NChain-v0/).\n",
    "![alt text](https://chalmersuniversity.box.com/shared/static/6tthbzhpofq9gzlowhr3w8if0xvyxb2b.jpg)\n",
    "\n",
    "## Question 3 (0.5 points)\n",
    "Basically, there are 5 states, and two actions 'a' and 'b'. Each transition (s,a,s') is noted with its corresponding reward. You are to first familiarize with the framework using its [documentation](http://gym.openai.com/docs/), and then implement the Q-learning algorithm for the Chain enviroment (called 'NChain-v0') using default parameters. Finally print the $Q^*$ table at convergence. Take $\\gamma=0.95$. You can refer to the Q-learning Jupyter notebook shown in class, uploaded on Canvas."
   ]
  },
  {
   "cell_type": "code",
   "execution_count": 18,
   "metadata": {},
   "outputs": [
    {
     "name": "stdout",
     "output_type": "stream",
     "text": [
      "[[62.07634385 59.70634835]\n",
      " [65.75561362 61.38977339]\n",
      " [69.49835051 59.75248863]\n",
      " [74.75602535 65.09637813]\n",
      " [80.99261708 69.64570223]]\n"
     ]
    }
   ],
   "source": [
    "import gym\n",
    "import gym_toytext #gym_toytext is imported since NChain-v0 is legacy content.\n",
    "import numpy as np\n",
    "import random\n",
    "import math\n",
    "\n",
    "# Question 3\n",
    "\n",
    "# The following code is from the notebook \"q_learning_frozen_lake\"\n",
    "env = gym.make(\"NChain-v0\")\n",
    "\n",
    "num_episodes = 20000\n",
    "gamma = 0.95\n",
    "learning_rate = 0.1\n",
    "epsilon = 0.2 #flipping skewed coin. Exploring 50% (0.5) of the time and exploiting the other half.\n",
    "\n",
    "# initialize the Q table\n",
    "Q = np.zeros([5, 2])\n",
    "\n",
    "for _ in range(num_episodes):\n",
    "    state = env.reset()\n",
    "    done = False\n",
    "    while done == False:\n",
    "        # First we select an action:\n",
    "        if random.uniform(0, 1) < epsilon: # Flip a skewed coin\n",
    "            action = env.action_space.sample() # Explore action space\n",
    "        else:\n",
    "            action = np.argmax(Q[state,:]) # Exploit learned values\n",
    "        # Then we perform the action and receive the feedback from the environment\n",
    "        new_state, reward, done, info = env.step(action)\n",
    "        # Finally we learn from the experience by updating the Q-value of the selected action\n",
    "        update = reward + (gamma*np.max(Q[new_state,:])) - Q[state, action]\n",
    "        Q[state,action] += learning_rate*update \n",
    "        state = new_state\n",
    "        \n",
    "print(Q)"
   ]
  },
  {
   "cell_type": "markdown",
   "metadata": {},
   "source": [
    "## Question 4 (1 point)\n",
    "\n",
    "a. Verify that the optimal $Q^*$ value obtained using Q-learning is same as the optimal value function $V^*$ for the corresponding MDP's optimal action. You would have to first define the MDP corresponding to Chain enviroment.\n",
    "\n",
    "b. What is the importance of exploration in RL ? Explain with an example."
   ]
  },
  {
   "cell_type": "markdown",
   "metadata": {},
   "source": [
    "**Answer a:**"
   ]
  },
  {
   "cell_type": "code",
   "execution_count": 17,
   "metadata": {},
   "outputs": [
    {
     "name": "stdout",
     "output_type": "stream",
     "text": [
      "[[54.29442084 52.42993116]\n",
      " [57.80622884 53.30788316]\n",
      " [62.42702884 54.46308316]\n",
      " [68.50702884 55.98308316]\n",
      " [76.50702884 57.98308316]]\n"
     ]
    }
   ],
   "source": [
    "# Question 4a\n",
    "\n",
    "action_success = 0.8\n",
    "\n",
    "num_episodes = 20000\n",
    "gamma = 0.95\n",
    "\n",
    "# 5X2 grid\n",
    "grid = np.array([[0,2],[0,2],[0,2],[0,2],[10,2]]).reshape(5,2).astype(float)\n",
    "optimal = np.array([[0,0],[0,0],[0,0],[0,0],[0,0]]).reshape(5,2).astype(float)\n",
    "\n",
    "for _ in range(num_episodes):\n",
    "    for i in range(5): #rows\n",
    "        \n",
    "        if i < 4:\n",
    "            optimal[i,0] = action_success*(grid[i,0]+gamma*optimal[i+1,0])+(1-action_success)*(grid[i,1]+gamma*optimal[0,1])\n",
    "            optimal[i,1] = action_success*(grid[i,1]+gamma*optimal[0,1])+(1-action_success)*(grid[i,0]+gamma*optimal[i+1,0])\n",
    "        else:\n",
    "            optimal[i,0] = action_success*(grid[i,0]+gamma*optimal[i,0])+(1-action_success)*(grid[i,1]+gamma*optimal[0,1])\n",
    "            optimal[i,1] = action_success*(grid[i,1]+gamma*optimal[0,1])+(1-action_success)*(grid[i,0]+gamma*optimal[i,0])\n",
    "\n",
    "print(optimal)"
   ]
  },
  {
   "cell_type": "code",
   "execution_count": 16,
   "metadata": {},
   "outputs": [
    {
     "name": "stdout",
     "output_type": "stream",
     "text": [
      "[[30.81789615 29.87162337]\n",
      " [33.98587662 29.90085185]\n",
      " [37.69779673 29.49796679]\n",
      " [40.40548318 30.58217531]\n",
      " [43.78040923 26.45501618]]\n"
     ]
    }
   ],
   "source": [
    "Diff = Q-optimal\n",
    "print(Diff)"
   ]
  },
  {
   "cell_type": "markdown",
   "metadata": {},
   "source": [
    "**Answer b:**"
   ]
  },
  {
   "cell_type": "markdown",
   "metadata": {},
   "source": [
    "Exploring is an important tool to find the most optimal policy. By randomly choosing actions more information is accesed and can be analyzed in order to find the best policy. \n",
    "\n",
    "Consider a path that starts with big rewards and ends with low rewards and another path that only has medium rewards. If the agent is exploiting, it will choose the first path, since it seems to be the best action at the present moment. But if the agent also is exploring, it will find that the second path is the better option since it gives more rewards in total.\n",
    "\n",
    "However, a mix between exploiting and exploring is needed for optimal performance in the long run. If the agent only explores, it never uses the information to increase the performance and by exploiting it uses that information."
   ]
  },
  {
   "cell_type": "markdown",
   "metadata": {},
   "source": [
    "## Question 5 (0.5 point)\n",
    "\n",
    "Briefly discuss the k-armed bandit problem formulation and it's distinguishing feature as a special case of the reinforcement learning problem formulation."
   ]
  },
  {
   "cell_type": "markdown",
   "metadata": {},
   "source": [
    "The problem with the k-armed bandit is that it only has one state and one action while different machines have different rewards and different probabilities. This means that there's no policy to explore other than pulling the lever, so no policy is better than the other (since there's only one). There's also no way to distinguish which machine would give the highest reward. If the agent were to analyze the machines the result would be that all of the machines have the same chances at winning in the long run. "
   ]
  },
  {
   "cell_type": "markdown",
   "metadata": {},
   "source": [
    "## Note\n",
    "\n",
    "* Until now, we have described algorithms for when no. of states and actions are finite. In coming weeks, you will be taught how to extend these methods to continous state enviroments like ATARI games.\n",
    "\n",
    "# References\n",
    "Primer/text based on the following references:\n",
    "* http://www.cse.chalmers.se/~chrdimi/downloads/book.pdf\n",
    "* https://github.com/olethrosdc/ml-society-science/blob/master/notes.pdf"
   ]
  }
 ],
 "metadata": {
  "kernelspec": {
   "display_name": "Python 3 (ipykernel)",
   "language": "python",
   "name": "python3"
  },
  "language_info": {
   "codemirror_mode": {
    "name": "ipython",
    "version": 3
   },
   "file_extension": ".py",
   "mimetype": "text/x-python",
   "name": "python",
   "nbconvert_exporter": "python",
   "pygments_lexer": "ipython3",
   "version": "3.9.10"
  }
 },
 "nbformat": 4,
 "nbformat_minor": 2
}
