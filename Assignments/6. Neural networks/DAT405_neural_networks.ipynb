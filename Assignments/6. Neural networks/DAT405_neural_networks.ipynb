{
 "cells": [
  {
   "cell_type": "markdown",
   "metadata": {},
   "source": [
    "# Assignment 4: Spam classification using Naïve Bayes"
   ]
  },
  {
   "cell_type": "markdown",
   "metadata": {},
   "source": [
    "## Viktor Olsson (17 h) and Johan Wallgren (17 h)"
   ]
  },
  {
   "cell_type": "code",
   "execution_count": 9,
   "metadata": {
    "colab": {},
    "colab_type": "code",
    "id": "N7Aer42gk1W9"
   },
   "outputs": [],
   "source": [
    "from __future__ import print_function\n",
    "from tensorflow import keras\n",
    "from tensorflow.keras import layers\n",
    "from keras.datasets import mnist\n",
    "from keras.models import Sequential\n",
    "from keras.layers import Dense, Dropout, Flatten\n",
    "from keras.layers import Conv2D, MaxPooling2D\n",
    "from keras import backend as K\n",
    "from keras.regularizers import l2\n",
    "import numpy as np\n",
    "import pandas as pd\n",
    "import matplotlib.pyplot as plt"
   ]
  },
  {
   "cell_type": "markdown",
   "metadata": {},
   "source": [
    "### Preprocessing\n",
    "\n",
    "1."
   ]
  },
  {
   "cell_type": "code",
   "execution_count": 2,
   "metadata": {},
   "outputs": [],
   "source": [
    "batch_size = 128 #number of samples before updating internal parameters.\n",
    "num_classes = 10 \n",
    "epochs = 10 #Number of passes through the whole dataset.\n",
    "\n",
    "# input image dimensions\n",
    "img_rows, img_cols = 28, 28 #28x28 pixel images.\n",
    "\n",
    "# the data, split between train and test sets\n",
    "(x_train, y_train), (x_test, y_test) = mnist.load_data()\n",
    "\n",
    "if K.image_data_format() == 'channels_first':\n",
    "    x_train = x_train.reshape(x_train.shape[0], 1, img_rows, img_cols)\n",
    "    x_test = x_test.reshape(x_test.shape[0], 1, img_rows, img_cols)\n",
    "    input_shape = (1, img_rows, img_cols)\n",
    "else:\n",
    "    x_train = x_train.reshape(x_train.shape[0], img_rows, img_cols, 1)\n",
    "    x_test = x_test.reshape(x_test.shape[0], img_rows, img_cols, 1)\n",
    "    input_shape = (img_rows, img_cols, 1)\n",
    "\n",
    "x_train = x_train.astype('float32')\n",
    "x_test = x_test.astype('float32')\n",
    "x_train /= 255\n",
    "x_test /= 255\n",
    "\n",
    "# convert class vectors to binary class matrices\n",
    "y_train = keras.utils.to_categorical(y_train, num_classes)\n",
    "y_test = keras.utils.to_categorical(y_test, num_classes)"
   ]
  },
  {
   "cell_type": "markdown",
   "metadata": {},
   "source": [
    "The mnist data set is loaded in and split into training and test sets. The training and test sets are then reshaped to make sure that the images have the shape (28, 28, 1) if channel is last or (1, 28, 28) if channel is first. Then the training and test sets are made float in order to scale the images to the [0, 1] range. The scaling is done by dividing the data by 255. Finally the class vectors are converted to binary class matrices.\n",
    "\n",
    "<!-- Why are we doing all these preprocessing steps? -->"
   ]
  },
  {
   "cell_type": "markdown",
   "metadata": {},
   "source": [
    "### Defining the model\n",
    "\n",
    "2."
   ]
  },
  {
   "cell_type": "markdown",
   "metadata": {},
   "source": [
    "#### A.\n",
    "\n",
    "The model has 5 layers. These are one flatten function and 4 dense functions where 3 are ReLu and the 4th is softmax.\n",
    "\n",
    "The first layer, flatten, has 28x28 = 784 neurons. This layer converts the 28x28 matrices to 784x1 vectors, since the dense layers requiers vector inputs. The second through fourth layers are dense layers with the ReLu activation functions. The layers have 125, 100, 50 neurons respectivly. This activation function is used to recognize handwritten symbols. The last layer is a dense layer with softmax activation function and contains 10 neurons. Softmax is used to get on node per class label in the model. The network is supposed to distinguish between 10 different symbols (numbers 0 to 9) and this is why there are 10 neurons in the output layer. The total number of parameters in the network is 116 285."
   ]
  },
  {
   "cell_type": "markdown",
   "metadata": {},
   "source": [
    "#### B.\n",
    "\n",
    "The loss-function used in this neural network is the categorical cross entropy function.\n",
    "<center><img src=\"img/CE.png\"/></center>\n",
    "This function will only take the \"true\" neuron and make the cross entropy calculation with that neuron. It will also only accept one correct class per sample."
   ]
  },
  {
   "cell_type": "markdown",
   "metadata": {},
   "source": [
    "#### C."
   ]
  },
  {
   "cell_type": "code",
   "execution_count": 3,
   "metadata": {},
   "outputs": [
    {
     "name": "stdout",
     "output_type": "stream",
     "text": [
      "Epoch 1/10\n",
      "469/469 [==============================] - 2s 3ms/step - loss: 0.4665 - accuracy: 0.8633 - val_loss: 0.2478 - val_accuracy: 0.9278\n",
      "Epoch 2/10\n",
      "469/469 [==============================] - 1s 3ms/step - loss: 0.1884 - accuracy: 0.9447 - val_loss: 0.1582 - val_accuracy: 0.9554\n",
      "Epoch 3/10\n",
      "469/469 [==============================] - 1s 3ms/step - loss: 0.1356 - accuracy: 0.9590 - val_loss: 0.1200 - val_accuracy: 0.9646\n",
      "Epoch 4/10\n",
      "469/469 [==============================] - 1s 3ms/step - loss: 0.1079 - accuracy: 0.9677 - val_loss: 0.1262 - val_accuracy: 0.9631\n",
      "Epoch 5/10\n",
      "469/469 [==============================] - 2s 4ms/step - loss: 0.0890 - accuracy: 0.9730 - val_loss: 0.1159 - val_accuracy: 0.9653\n",
      "Epoch 6/10\n",
      "469/469 [==============================] - 2s 5ms/step - loss: 0.0758 - accuracy: 0.9772 - val_loss: 0.1118 - val_accuracy: 0.9651\n",
      "Epoch 7/10\n",
      "469/469 [==============================] - 2s 3ms/step - loss: 0.0638 - accuracy: 0.9811 - val_loss: 0.0890 - val_accuracy: 0.9726\n",
      "Epoch 8/10\n",
      "469/469 [==============================] - 2s 4ms/step - loss: 0.0556 - accuracy: 0.9832 - val_loss: 0.0838 - val_accuracy: 0.9745\n",
      "Epoch 9/10\n",
      "469/469 [==============================] - 1s 3ms/step - loss: 0.0493 - accuracy: 0.9847 - val_loss: 0.0930 - val_accuracy: 0.9709\n",
      "Epoch 10/10\n",
      "469/469 [==============================] - 1s 3ms/step - loss: 0.0422 - accuracy: 0.9874 - val_loss: 0.0931 - val_accuracy: 0.9719\n",
      "Test loss: 0.09305844455957413, Test accuracy 0.9718999862670898\n"
     ]
    }
   ],
   "source": [
    "## Define model ##\n",
    "model = Sequential()\n",
    "\n",
    "model.add(Flatten())\n",
    "model.add(Dense(125, activation = 'relu'))\n",
    "model.add(Dense(100, activation = 'relu'))\n",
    "model.add(Dense(50, activation = 'relu'))\n",
    "model.add(Dense(num_classes, activation='softmax'))\n",
    "\n",
    "model.compile(loss=keras.losses.categorical_crossentropy,\n",
    "               optimizer=keras.optimizers.SGD(learning_rate = 0.1),\n",
    "               metrics=['accuracy'])\n",
    "\n",
    "fit_info = model.fit(x_train, y_train,\n",
    "           batch_size=batch_size,\n",
    "           epochs=epochs,\n",
    "           verbose=1,\n",
    "           validation_data=(x_test, y_test))\n",
    "score = model.evaluate(x_test, y_test, verbose=0)\n",
    "print('Test loss: {}, Test accuracy {}'.format(score[0], score[1]))"
   ]
  },
  {
   "cell_type": "code",
   "execution_count": 4,
   "metadata": {},
   "outputs": [
    {
     "name": "stdout",
     "output_type": "stream",
     "text": [
      "Model: \"sequential\"\n",
      "_________________________________________________________________\n",
      " Layer (type)                Output Shape              Param #   \n",
      "=================================================================\n",
      " flatten (Flatten)           (None, 784)               0         \n",
      "                                                                 \n",
      " dense (Dense)               (None, 125)               98125     \n",
      "                                                                 \n",
      " dense_1 (Dense)             (None, 100)               12600     \n",
      "                                                                 \n",
      " dense_2 (Dense)             (None, 50)                5050      \n",
      "                                                                 \n",
      " dense_3 (Dense)             (None, 10)                510       \n",
      "                                                                 \n",
      "=================================================================\n",
      "Total params: 116,285\n",
      "Trainable params: 116,285\n",
      "Non-trainable params: 0\n",
      "_________________________________________________________________\n"
     ]
    }
   ],
   "source": [
    "model.summary()"
   ]
  },
  {
   "cell_type": "code",
   "execution_count": 7,
   "metadata": {
    "scrolled": false
   },
   "outputs": [
    {
     "name": "stdout",
     "output_type": "stream",
     "text": [
      "469/469 [==============================] - 4s 8ms/step - loss: 0.4087 - accuracy: 0.8860 - val_loss: 0.2277 - val_accuracy: 0.9354\n",
      "469/469 [==============================] - 4s 9ms/step - loss: 0.1916 - accuracy: 0.9455 - val_loss: 0.1606 - val_accuracy: 0.9514\n",
      "469/469 [==============================] - 4s 9ms/step - loss: 0.1394 - accuracy: 0.9604 - val_loss: 0.1321 - val_accuracy: 0.9608\n",
      "469/469 [==============================] - 5s 9ms/step - loss: 0.6473 - accuracy: 0.8888 - val_loss: 0.4776 - val_accuracy: 0.9310\n",
      "469/469 [==============================] - 4s 9ms/step - loss: 0.4284 - accuracy: 0.9452 - val_loss: 0.3948 - val_accuracy: 0.9527\n",
      "469/469 [==============================] - 4s 9ms/step - loss: 0.3708 - accuracy: 0.9600 - val_loss: 0.3488 - val_accuracy: 0.9644\n",
      "469/469 [==============================] - 5s 10ms/step - loss: 0.8874 - accuracy: 0.8890 - val_loss: 0.6798 - val_accuracy: 0.9364\n",
      "469/469 [==============================] - 5s 10ms/step - loss: 0.6396 - accuracy: 0.9445 - val_loss: 0.5867 - val_accuracy: 0.9550\n",
      "469/469 [==============================] - 4s 9ms/step - loss: 0.5585 - accuracy: 0.9596 - val_loss: 0.5294 - val_accuracy: 0.9615\n",
      "469/469 [==============================] - 5s 9ms/step - loss: 1.1152 - accuracy: 0.8867 - val_loss: 0.8983 - val_accuracy: 0.9314\n",
      "469/469 [==============================] - 4s 9ms/step - loss: 0.8243 - accuracy: 0.9426 - val_loss: 0.7532 - val_accuracy: 0.9507\n",
      "469/469 [==============================] - 5s 11ms/step - loss: 0.7038 - accuracy: 0.9572 - val_loss: 0.6599 - val_accuracy: 0.9601\n",
      "469/469 [==============================] - 5s 10ms/step - loss: 1.3271 - accuracy: 0.8880 - val_loss: 1.0609 - val_accuracy: 0.9401\n",
      "469/469 [==============================] - 5s 10ms/step - loss: 0.9785 - accuracy: 0.9431 - val_loss: 0.8827 - val_accuracy: 0.9539\n",
      "469/469 [==============================] - 4s 9ms/step - loss: 0.8130 - accuracy: 0.9567 - val_loss: 0.7450 - val_accuracy: 0.9605\n"
     ]
    },
    {
     "data": {
      "image/png": "[encoded data removed]",
      "text/plain": [
       "<Figure size 1080x720 with 1 Axes>"
      ]
     },
     "metadata": {
      "needs_background": "light"
     },
     "output_type": "display_data"
    }
   ],
   "source": [
    "## Redefine model ##\n",
    "\n",
    "batch_size = 128 #number of samples before updating internal parameters.\n",
    "epochs = 1 #Number of passes through the whole dataset.\n",
    "accuracy = []\n",
    "std = []\n",
    "factors = np.linspace(0.000001, 0.001,num=5)\n",
    "for param in factors:\n",
    "    scores = []\n",
    "    ## Define model ##\n",
    "    model = Sequential()\n",
    "    model.add(Flatten())\n",
    "    model.add(Dense(500, activation = 'relu', kernel_regularizer=l2(param)))\n",
    "    model.add(Dense(300, activation = 'relu', kernel_regularizer=l2(param)))\n",
    "    model.add(Dense(num_classes, activation='softmax'))\n",
    "\n",
    "    model.compile(loss=keras.losses.categorical_crossentropy,\n",
    "                   optimizer=keras.optimizers.SGD(learning_rate = 0.1),\n",
    "                   metrics=['accuracy'])\n",
    "    for _ in range(3):\n",
    "        fit_info = model.fit(x_train, y_train,\n",
    "                   batch_size=batch_size,\n",
    "                   epochs=epochs,\n",
    "                   verbose=1,\n",
    "                   validation_data=(x_test, y_test))\n",
    "        score = model.evaluate(x_test, y_test, verbose=0)\n",
    "        scores.append(score[1])\n",
    "    accuracy.append(score[1])\n",
    "    std.append(np.std(scores))\n",
    "    \n",
    "accuracy = np.array(accuracy)\n",
    "std = np.array(std)\n",
    "plt.figure(figsize=(15, 10))\n",
    "plt.plot(factors,accuracy, label = 'Accuracy')\n",
    "plt.plot(factors,accuracy+std,'--', label = 'Accuracy+std')\n",
    "plt.plot(factors,accuracy-std, '--', label = 'Accuracy-std')\n",
    "plt.xlim([-0.0001, 0.0011])\n",
    "plt.legend()\n",
    "plt.show()\n"
   ]
  },
  {
   "cell_type": "markdown",
   "metadata": {},
   "source": [
    "### 3. Convolutional layers\n",
    "\n",
    "#### A."
   ]
  },
  {
   "cell_type": "code",
   "execution_count": 15,
   "metadata": {},
   "outputs": [
    {
     "name": "stdout",
     "output_type": "stream",
     "text": [
      "Model: \"sequential_13\"\n",
      "_________________________________________________________________\n",
      " Layer (type)                Output Shape              Param #   \n",
      "=================================================================\n",
      " conv2d_2 (Conv2D)           (None, 26, 26, 32)        320       \n",
      "                                                                 \n",
      " max_pooling2d_2 (MaxPooling  (None, 13, 13, 32)       0         \n",
      " 2D)                                                             \n",
      "                                                                 \n",
      " conv2d_3 (Conv2D)           (None, 11, 11, 64)        18496     \n",
      "                                                                 \n",
      " max_pooling2d_3 (MaxPooling  (None, 5, 5, 64)         0         \n",
      " 2D)                                                             \n",
      "                                                                 \n",
      " flatten_13 (Flatten)        (None, 1600)              0         \n",
      "                                                                 \n",
      " dropout_1 (Dropout)         (None, 1600)              0         \n",
      "                                                                 \n",
      " dense_38 (Dense)            (None, 10)                16010     \n",
      "                                                                 \n",
      "=================================================================\n",
      "Total params: 34,826\n",
      "Trainable params: 34,826\n",
      "Non-trainable params: 0\n",
      "_________________________________________________________________\n"
     ]
    }
   ],
   "source": [
    "#Build the model as a cnn.\n",
    "model = keras.Sequential(\n",
    "    [\n",
    "        keras.Input(shape=input_shape),\n",
    "        layers.Conv2D(filters=32, kernel_size=(3, 3), activation=\"relu\"), #Maxpooling is an algorithm for downsizing\n",
    "        layers.MaxPooling2D(pool_size=(2, 2)),\n",
    "        layers.Conv2D(filters=64, kernel_size=(3, 3), activation=\"relu\"),\n",
    "        layers.MaxPooling2D(pool_size=(2, 2)),\n",
    "        layers.Flatten(),\n",
    "        layers.Dropout(0.5), #Dropout deactivates random nodes.\n",
    "        layers.Dense(num_classes, activation=\"softmax\"),\n",
    "    ]\n",
    ")\n",
    "\n",
    "model.summary()"
   ]
  },
  {
   "cell_type": "markdown",
   "metadata": {},
   "source": [
    "*Comment for layers*\n",
    "\n",
    "* Pooling is used for summarizing the features found and for downsizing the data.\n",
    "* Dropout is a technique where random nodes are selected and ignored during traning of the model to increase the models capablitlity of better generalization and to make it less likely to overfitt."
   ]
  },
  {
   "cell_type": "code",
   "execution_count": 14,
   "metadata": {},
   "outputs": [
    {
     "name": "stdout",
     "output_type": "stream",
     "text": [
      "Epoch 1/10\n",
      "422/422 [==============================] - 23s 54ms/step - loss: 0.0966 - accuracy: 0.9708 - val_loss: 0.0513 - val_accuracy: 0.9877\n",
      "Epoch 2/10\n",
      "422/422 [==============================] - 22s 53ms/step - loss: 0.0737 - accuracy: 0.9770 - val_loss: 0.0428 - val_accuracy: 0.9883\n",
      "Epoch 3/10\n",
      "422/422 [==============================] - 25s 60ms/step - loss: 0.0640 - accuracy: 0.9804 - val_loss: 0.0380 - val_accuracy: 0.9907\n",
      "Epoch 4/10\n",
      "422/422 [==============================] - 24s 57ms/step - loss: 0.0580 - accuracy: 0.9819 - val_loss: 0.0352 - val_accuracy: 0.9903\n",
      "Epoch 5/10\n",
      "422/422 [==============================] - 25s 60ms/step - loss: 0.0519 - accuracy: 0.9831 - val_loss: 0.0306 - val_accuracy: 0.9922\n",
      "Epoch 6/10\n",
      "422/422 [==============================] - 23s 54ms/step - loss: 0.0492 - accuracy: 0.9849 - val_loss: 0.0333 - val_accuracy: 0.9905\n",
      "Epoch 7/10\n",
      "422/422 [==============================] - 22s 52ms/step - loss: 0.0447 - accuracy: 0.9859 - val_loss: 0.0327 - val_accuracy: 0.9907\n",
      "Epoch 8/10\n",
      "422/422 [==============================] - 22s 53ms/step - loss: 0.0436 - accuracy: 0.9865 - val_loss: 0.0296 - val_accuracy: 0.9922\n",
      "Epoch 9/10\n",
      "422/422 [==============================] - 22s 53ms/step - loss: 0.0402 - accuracy: 0.9870 - val_loss: 0.0291 - val_accuracy: 0.9913\n",
      "Epoch 10/10\n",
      "422/422 [==============================] - 24s 57ms/step - loss: 0.0375 - accuracy: 0.9878 - val_loss: 0.0309 - val_accuracy: 0.9928\n"
     ]
    },
    {
     "data": {
      "text/plain": [
       "<keras.callbacks.History at 0x201e54b6f40>"
      ]
     },
     "execution_count": 14,
     "metadata": {},
     "output_type": "execute_result"
    }
   ],
   "source": [
    "#Train the model.\n",
    "\n",
    "batch_size = 128\n",
    "epochs = 10\n",
    "\n",
    "model.compile(loss=\"categorical_crossentropy\", optimizer=\"adam\", metrics=[\"accuracy\"]) # The optimizer Adam \n",
    "                                                                                       # (Adaptive Moment Estimation)\n",
    "\n",
    "model.fit(x_train, y_train, batch_size=batch_size, epochs=epochs, validation_split=0.1)"
   ]
  },
  {
   "cell_type": "markdown",
   "metadata": {},
   "source": [
    "*Comment for optimizer and validation split*\n",
    "\n",
    "* The optimizer ADAM (Adaptive Moment Estimation), is an method that computes the adaptive learning rate for each parameter.\n",
    "* Validation split, splits the training set by proportion to the argument and uses that part to validate after each epoch is finished."
   ]
  },
  {
   "cell_type": "code",
   "execution_count": 13,
   "metadata": {},
   "outputs": [
    {
     "name": "stdout",
     "output_type": "stream",
     "text": [
      "Test loss: 0.06731502711772919\n",
      "Test accuracy: 0.9797000288963318\n"
     ]
    }
   ],
   "source": [
    "#Evaluate the model.\n",
    "\n",
    "score = model.evaluate(x_test, y_test, verbose=0)\n",
    "print(\"Test loss:\", score[0])\n",
    "print(\"Test accuracy:\", score[1])"
   ]
  },
  {
   "cell_type": "markdown",
   "metadata": {},
   "source": [
    "#### B."
   ]
  },
  {
   "cell_type": "markdown",
   "metadata": {},
   "source": []
  }
 ],
 "metadata": {
  "accelerator": "GPU",
  "colab": {
   "collapsed_sections": [],
   "name": "DAT405_neural_networks.ipynb",
   "provenance": []
  },
  "kernelspec": {
   "display_name": "Python 3 (ipykernel)",
   "language": "python",
   "name": "python3"
  },
  "language_info": {
   "codemirror_mode": {
    "name": "ipython",
    "version": 3
   },
   "file_extension": ".py",
   "mimetype": "text/x-python",
   "name": "python",
   "nbconvert_exporter": "python",
   "pygments_lexer": "ipython3",
   "version": "3.9.10"
  }
 },
 "nbformat": 4,
 "nbformat_minor": 1
}
